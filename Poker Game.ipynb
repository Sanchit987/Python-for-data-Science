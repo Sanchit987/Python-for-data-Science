{
 "cells": [
  {
   "cell_type": "code",
   "execution_count": 13,
   "metadata": {},
   "outputs": [],
   "source": [
    "import random"
   ]
  },
  {
   "cell_type": "code",
   "execution_count": 41,
   "metadata": {},
   "outputs": [],
   "source": [
    "class Poker:\n",
    "    \n",
    "    Royal_Flush= 10\n",
    "    Straight_Flush= 9\n",
    "    Four_of_a_Kind= 8\n",
    "    Full_House= 7\n",
    "    Flush= 6\n",
    "    Straight= 5\n",
    "    Three_of_a_Kind= 4\n",
    "    Two_Pair= 3\n",
    "    One_Pair= 2\n",
    "    High_Card= 1\n",
    "    \n",
    "    def __init__(self):\n",
    "        self.card_sequence = []\n",
    "        self.points = 0\n",
    "    \n",
    "    def add_cards(self,seq):\n",
    "        self.card_sequence.extend(seq)\n",
    "        \n",
    "    def show_seq(self):\n",
    "        return self.card_sequence\n",
    "    \n",
    "    def is_royal_flush():\n",
    "        "
   ]
  },
  {
   "cell_type": "code",
   "execution_count": 48,
   "metadata": {},
   "outputs": [],
   "source": [
    "def main():\n",
    "    num = int(input(\"Enter Number of players : \"))\n",
    "    while(num<2 or num>6):\n",
    "        num = int(input(\"Enter Number of players : \"))\n",
    "    objs = [Poker() for i in range(num)]\n",
    "    rank = ['A',2,3,4,5,6,7,8,9,10,'J','Q','K']\n",
    "    suits = ['C','D','H','S']\n",
    "    cards = [''.join([str(i),j]) for i in rank for j in suits]\n",
    "    random.shuffle(cards)\n",
    "    for i in range(num):\n",
    "        arr = [cards.pop(i) for i in range(5)]\n",
    "        objs[i].add_cards(arr)\n",
    "    for i in range(num):\n",
    "        print(\"Player {} : \".format(i+1),*objs[i].show_seq())"
   ]
  },
  {
   "cell_type": "code",
   "execution_count": 49,
   "metadata": {},
   "outputs": [
    {
     "name": "stdout",
     "output_type": "stream",
     "text": [
      "Enter Number of players : 5\n",
      "Player 1 :  4D 9H 3H QH 3C\n",
      "Player 2 :  2C 6D 9S 8H 3D\n",
      "Player 3 :  AS AC QS 8S 8D\n",
      "Player 4 :  4S 4H 9D JD 10S\n",
      "Player 5 :  2S 5H QC JS QD\n"
     ]
    }
   ],
   "source": [
    "main()"
   ]
  },
  {
   "cell_type": "code",
   "execution_count": null,
   "metadata": {},
   "outputs": [],
   "source": []
  }
 ],
 "metadata": {
  "kernelspec": {
   "display_name": "Python 3",
   "language": "python",
   "name": "python3"
  },
  "language_info": {
   "codemirror_mode": {
    "name": "ipython",
    "version": 3
   },
   "file_extension": ".py",
   "mimetype": "text/x-python",
   "name": "python",
   "nbconvert_exporter": "python",
   "pygments_lexer": "ipython3",
   "version": "3.8.3"
  }
 },
 "nbformat": 4,
 "nbformat_minor": 4
}
