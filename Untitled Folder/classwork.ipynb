{
 "cells": [
  {
   "cell_type": "markdown",
   "metadata": {},
   "source": [
    "# Day 2 - 8/2/2021"
   ]
  },
  {
   "cell_type": "code",
   "execution_count": 1,
   "metadata": {},
   "outputs": [
    {
     "name": "stdout",
     "output_type": "stream",
     "text": [
      "[1, 2, 3, 'S', 'a', 'n', 'c', 'h', 'i', 't']\n"
     ]
    }
   ],
   "source": [
    "mylist = [1,2,3]\n",
    "ex = \"Sanchit\"\n",
    "mylist.extend(ex)\n",
    "\n",
    "print(mylist)"
   ]
  },
  {
   "cell_type": "code",
   "execution_count": 2,
   "metadata": {},
   "outputs": [],
   "source": [
    "mylist.insert(5,\"sanchit\")"
   ]
  },
  {
   "cell_type": "code",
   "execution_count": 3,
   "metadata": {},
   "outputs": [
    {
     "data": {
      "text/plain": [
       "[1, 2, 3, 'S', 'a', 'sanchit', 'n', 'c', 'h', 'i', 't']"
      ]
     },
     "execution_count": 3,
     "metadata": {},
     "output_type": "execute_result"
    }
   ],
   "source": [
    "mylist"
   ]
  },
  {
   "cell_type": "code",
   "execution_count": 4,
   "metadata": {},
   "outputs": [
    {
     "name": "stdout",
     "output_type": "stream",
     "text": [
      "{'name': 'sanchit', 'lastname': 'Khera'}\n"
     ]
    }
   ],
   "source": [
    "mydict = {\"name\": \"sanchit\", \"lastname\": \"Khera\"}\n",
    "print(mydict)"
   ]
  },
  {
   "cell_type": "code",
   "execution_count": 5,
   "metadata": {},
   "outputs": [
    {
     "name": "stdout",
     "output_type": "stream",
     "text": [
      "sanchit\n",
      "Khera\n"
     ]
    }
   ],
   "source": [
    "print(mydict[\"name\"])\n",
    "print(mydict[\"lastname\"])"
   ]
  },
  {
   "cell_type": "code",
   "execution_count": 6,
   "metadata": {},
   "outputs": [],
   "source": [
    "mydict[\"hello\"] = \"hi\""
   ]
  },
  {
   "cell_type": "code",
   "execution_count": 7,
   "metadata": {},
   "outputs": [
    {
     "name": "stdout",
     "output_type": "stream",
     "text": [
      "{'name': 'sanchit', 'lastname': 'Khera', 'hello': 'hi'}\n"
     ]
    }
   ],
   "source": [
    "print(mydict)"
   ]
  },
  {
   "cell_type": "markdown",
   "metadata": {},
   "source": [
    "# Day - 3 "
   ]
  },
  {
   "cell_type": "markdown",
   "metadata": {},
   "source": [
    "# Tuples and sets: "
   ]
  },
  {
   "cell_type": "code",
   "execution_count": 8,
   "metadata": {},
   "outputs": [
    {
     "data": {
      "text/plain": [
       "'\\nImmutable\\n'"
      ]
     },
     "execution_count": 8,
     "metadata": {},
     "output_type": "execute_result"
    }
   ],
   "source": [
    "tup = (1,2,3)\n",
    "\"\"\"\n",
    "Immutable\n",
    "\"\"\""
   ]
  },
  {
   "cell_type": "code",
   "execution_count": 9,
   "metadata": {},
   "outputs": [
    {
     "data": {
      "text/plain": [
       "set"
      ]
     },
     "execution_count": 9,
     "metadata": {},
     "output_type": "execute_result"
    }
   ],
   "source": [
    "x = set()\n",
    "type(x)"
   ]
  },
  {
   "cell_type": "code",
   "execution_count": 10,
   "metadata": {},
   "outputs": [
    {
     "data": {
      "text/plain": [
       "dict"
      ]
     },
     "execution_count": 10,
     "metadata": {},
     "output_type": "execute_result"
    }
   ],
   "source": [
    "x = {}\n",
    "type(x)"
   ]
  },
  {
   "cell_type": "code",
   "execution_count": 11,
   "metadata": {},
   "outputs": [
    {
     "data": {
      "text/plain": [
       "set"
      ]
     },
     "execution_count": 11,
     "metadata": {},
     "output_type": "execute_result"
    }
   ],
   "source": [
    "x = {1,2,3}\n",
    "type(x)"
   ]
  },
  {
   "cell_type": "markdown",
   "metadata": {},
   "source": [
    "# 19th Feburary,2021"
   ]
  },
  {
   "cell_type": "code",
   "execution_count": null,
   "metadata": {},
   "outputs": [],
   "source": [
    "w = int(input(\"Enter Weight : \"))\n",
    "\n",
    "if(w > 50):\n",
    "    print(\"Extra charge \")\n",
    "else:\n",
    "    print(\"No extra charge\")\n",
    "print(\"Thank you\")"
   ]
  },
  {
   "cell_type": "code",
   "execution_count": null,
   "metadata": {},
   "outputs": [],
   "source": [
    "w = int(input(\"Enter Number of credits : \"))\n",
    "\n",
    "if(w >= 120):\n",
    "    print(\"You will Graduate\")\n",
    "else:\n",
    "    print(\"You need {} extra credits \".format(120-w))\n",
    "print(\"Thank you\")"
   ]
  },
  {
   "cell_type": "code",
   "execution_count": null,
   "metadata": {},
   "outputs": [],
   "source": [
    "w = int(input(\"Enter Number of credits : \"))\n",
    "g = float(input(\"Enter GPA : \"))\n",
    "\n",
    "if(w >= 120 and g>=2):\n",
    "    print(\"You will Graduate\")\n",
    "else:\n",
    "    print(\"You wont graduate\")\n",
    "print(\"Thank you\")"
   ]
  },
  {
   "cell_type": "code",
   "execution_count": null,
   "metadata": {},
   "outputs": [],
   "source": [
    "gr = [90,80,70,60]\n",
    "alp = [\"A\",\"B\",\"C\",\"D\"]\n",
    "x = int(input(\"Enter number : \"))\n",
    "for i in range(len(gr)):\n",
    "    if(x >= gr[i]):\n",
    "        print(\"Grade \", alp[i])\n",
    "        break\n",
    "    if(x< 60):\n",
    "        print(\"Grade E\")\n",
    "        break"
   ]
  },
  {
   "cell_type": "code",
   "execution_count": null,
   "metadata": {},
   "outputs": [],
   "source": [
    "for i in range(21):\n",
    "    print(\"12 x {} = {}\".format(i,i*12))"
   ]
  },
  {
   "cell_type": "code",
   "execution_count": null,
   "metadata": {},
   "outputs": [],
   "source": [
    "i = 1\n",
    "while(i<=20):\n",
    "    print(\"15 x {} = {}\".format(i,i*15))\n",
    "    i += 1"
   ]
  },
  {
   "cell_type": "code",
   "execution_count": null,
   "metadata": {},
   "outputs": [],
   "source": [
    "# armstrong number\n",
    "\n",
    "num = input(\"Enter Number :\")\n",
    "lis = list(num)\n",
    "\n",
    "res = 0\n",
    "for i in lis:\n",
    "    res += (int(i))**3\n",
    "    \n",
    "if(res == int(num)):\n",
    "    print(\"This three digit number is armstrong\")\n",
    "else:\n",
    "    print(\"No\")"
   ]
  },
  {
   "cell_type": "code",
   "execution_count": null,
   "metadata": {},
   "outputs": [],
   "source": [
    "lis = [20,11,9,66,4,89,44]\n",
    "odd_arr = []\n",
    "for i in lis:\n",
    "    if(i%2 != 0):\n",
    "        odd_arr.append(i)\n",
    "print(odd_arr)"
   ]
  },
  {
   "cell_type": "code",
   "execution_count": null,
   "metadata": {},
   "outputs": [],
   "source": [
    "x = int(input(\"Enter Number : \"))\n",
    "\n",
    "y = [i for i in range(1,int(x/2)) if x%i==0]\n",
    "print(y)\n",
    "if(len(y)==1):\n",
    "    print(\"Prime\")\n",
    "else:\n",
    "    print(\"Not Prime\")"
   ]
  },
  {
   "cell_type": "code",
   "execution_count": null,
   "metadata": {},
   "outputs": [],
   "source": [
    "def swap(a,b):\n",
    "    a,b=b,a\n",
    "    \n",
    "    \n",
    "a=5\n",
    "b=6\n",
    "swap(a,b)\n",
    "print(a)\n",
    "print(b)"
   ]
  },
  {
   "cell_type": "code",
   "execution_count": null,
   "metadata": {},
   "outputs": [],
   "source": [
    "def ana(x,y):\n",
    "    x1=list(x).sort()\n",
    "    y1=list(y).sort()\n",
    "    if(x1==y1):\n",
    "        print(\"ok\")\n",
    "    \n",
    "ana(\"san\",\"nas\")\n",
    "    "
   ]
  },
  {
   "cell_type": "code",
   "execution_count": null,
   "metadata": {},
   "outputs": [],
   "source": [
    "def mul(x,y):\n",
    "    return x*y\n",
    "print(mul(5,6))"
   ]
  },
  {
   "cell_type": "code",
   "execution_count": null,
   "metadata": {},
   "outputs": [],
   "source": [
    "l = [(1,2,3), (4, 7, 9), (3, 8, 0), (1, 0, 7), (6, 1, 4)]\n",
    "l.sort(key = lambda x:x[2])\n",
    "print(l)"
   ]
  },
  {
   "cell_type": "code",
   "execution_count": null,
   "metadata": {},
   "outputs": [],
   "source": [
    "help(l.sort)"
   ]
  },
  {
   "cell_type": "code",
   "execution_count": null,
   "metadata": {},
   "outputs": [],
   "source": [
    "def leapy(x):\n",
    "    if(x%400 == 0):\n",
    "        return True\n",
    "    elif(x%100 == 0):\n",
    "        return False\n",
    "    elif(x%4 == 0):\n",
    "        return True\n",
    "    else:\n",
    "        return False\n",
    "leap = int(input())\n",
    "print(\"its \" ,leapy(leap),\" that year is leap\")"
   ]
  },
  {
   "cell_type": "code",
   "execution_count": null,
   "metadata": {},
   "outputs": [],
   "source": [
    "def pr(x):\n",
    "    print(\"Welcome to CCD\")\n",
    "    print(\"Enjoy your {} !\".format(x))\n",
    "\n",
    "def menu(ls):\n",
    "    for i in range(len(ls)):\n",
    "        print(i,ls[i])\n",
    "dict = {\"c\":[\"Espresso Coffee\",\"Cappuccino Coffee\",\"Latte Coffee\"], \"t\":[\"Plain Tea\",\"Assam Tea\",\"Ginger Tea\",\"Cardamom Tea\",\"Masala Tea\",\"Lemon Tea\",\"Green Tea\",\"Organic Darjeeling Tea\"\n",
    "], \"s\":[\"Hot and Sour Soup\",\"Veg Corn Soup\",\"Tomato Soup\",\"Spicy Tomato Soup\"], \"b\":[\"Hot Chocolate Drink\",\"Badam Drink\",\"Badam-Pista Drink\"]}\n",
    "\n",
    "inpu = input()\n",
    "\n",
    "if inpu in dict.keys():\n",
    "    menu(dict[inpu])\n",
    "    print(\"Enter your choice\")\n",
    "    x = int(input())\n",
    "    if(x<len(dict[inpu])):\n",
    "        pr(dict[inpu][x])\n",
    "    else:\n",
    "        print(\"Sorry wrong input\")\n",
    "else:\n",
    "    print(\"invalid input sir\")\n",
    "x"
   ]
  },
  {
   "cell_type": "markdown",
   "metadata": {},
   "source": [
    "# march 12 2021"
   ]
  },
  {
   "cell_type": "code",
   "execution_count": null,
   "metadata": {},
   "outputs": [],
   "source": [
    "def f(a,b):\n",
    "    print(a,b)\n",
    "f(*[2,3])"
   ]
  },
  {
   "cell_type": "code",
   "execution_count": null,
   "metadata": {},
   "outputs": [],
   "source": [
    "def func(ls1,ls2):n\n",
    "    print(ls1)\n",
    "    if(ls1[0] < ls2[0] and ls1[0]+ls1[1] < ls2[0]):\n",
    "        ls1[0] = ls1[0]+ls1[1]\n",
    "        func(ls1,ls2)\n",
    "    if(ls1[1] < ls2[1] and ls1[0]+ls1[1] < ls2[1]):\n",
    "        ls1[1] = ls1[0]+ls1[1]\n",
    "        func(ls1,ls2)\n",
    "    if(ls1 == ls2):\n",
    "        print(\"Yes\")\n",
    "\n",
    "        \n",
    "func([2,10],[26,12])"
   ]
  },
  {
   "cell_type": "code",
   "execution_count": null,
   "metadata": {},
   "outputs": [],
   "source": [
    "def check(log):\n",
    "    return log\n",
    "\n",
    "def addc(check):\n",
    "    def func():\n",
    "        print(\"You may add the course.\")\n",
    "    if(check):\n",
    "        print(\"Redirect to login Page\")\n",
    "    else:\n",
    "        return func\n",
    "login = 0\n",
    "\n",
    "check = addc(check)"
   ]
  },
  {
   "cell_type": "code",
   "execution_count": null,
   "metadata": {},
   "outputs": [],
   "source": [
    "from datetime import datetime\n",
    "now = datetime.now()\n",
    "day = lambda x: x.day\n",
    "time = lambda x: x.time()\n",
    "year = lambda x: x.year\n",
    "\n",
    "print(day(now))\n",
    "print(year(now))"
   ]
  },
  {
   "cell_type": "code",
   "execution_count": null,
   "metadata": {},
   "outputs": [],
   "source": [
    "re = lambda x,ls: x.remove(ls)\n",
    "colors = ['orange', 'red', 'green', 'blue', 'white', 'black']\n",
    "remove_colors = ['orange','black']\n",
    "for i in remove_colors:\n",
    "    re(colors,i)\n",
    "print(colors)"
   ]
  },
  {
   "cell_type": "code",
   "execution_count": null,
   "metadata": {},
   "outputs": [],
   "source": [
    "sq = lambda x: x**2\n",
    "sum = 0\n",
    "for i in range(1,11):\n",
    "    print(sq(i))\n",
    "    sum += sq(i)\n",
    "print(sum)\n",
    "#use reduce function"
   ]
  },
  {
   "cell_type": "code",
   "execution_count": null,
   "metadata": {},
   "outputs": [],
   "source": [
    "dic = {1 : 0,2 : 0,5 : 0,10 : 0,20 : 0,50 : 0,100 : 0,500 : 0,2000 : 0}\n",
    "x = int(input(\"Enter Amount\"))\n"
   ]
  },
  {
   "cell_type": "markdown",
   "metadata": {},
   "source": [
    "# 15th March"
   ]
  },
  {
   "cell_type": "code",
   "execution_count": 2,
   "metadata": {},
   "outputs": [
    {
     "name": "stdout",
     "output_type": "stream",
     "text": [
      "Sanchit\n",
      "Hello\n"
     ]
    }
   ],
   "source": [
    "class Hello:\n",
    "    def __init__(self):\n",
    "        self.name = \"Sanchit\"\n",
    "var = Hello()\n",
    "print(var.name)\n",
    "var.hello = \"Hello\"\n",
    "print(var.hello)"
   ]
  },
  {
   "cell_type": "markdown",
   "metadata": {},
   "source": [
    "# march 19"
   ]
  },
  {
   "cell_type": "code",
   "execution_count": 6,
   "metadata": {},
   "outputs": [
    {
     "ename": "AttributeError",
     "evalue": "type object 'son' has no attribute 'super'",
     "output_type": "error",
     "traceback": [
      "\u001b[0;31m---------------------------------------------------------------------------\u001b[0m",
      "\u001b[0;31mAttributeError\u001b[0m                            Traceback (most recent call last)",
      "\u001b[0;32m<ipython-input-6-d9a3990bf227>\u001b[0m in \u001b[0;36m<module>\u001b[0;34m\u001b[0m\n\u001b[1;32m      9\u001b[0m         \u001b[0mprint\u001b[0m\u001b[0;34m(\u001b[0m\u001b[0;34m\"S\"\u001b[0m\u001b[0;34m)\u001b[0m\u001b[0;34m\u001b[0m\u001b[0;34m\u001b[0m\u001b[0m\n\u001b[1;32m     10\u001b[0m \u001b[0ms\u001b[0m \u001b[0;34m=\u001b[0m \u001b[0mson\u001b[0m\u001b[0;34m\u001b[0m\u001b[0;34m\u001b[0m\u001b[0m\n\u001b[0;32m---> 11\u001b[0;31m \u001b[0ms\u001b[0m\u001b[0;34m.\u001b[0m\u001b[0msuper\u001b[0m\u001b[0;34m(\u001b[0m\u001b[0;34m)\u001b[0m\u001b[0;34m.\u001b[0m\u001b[0mfunc\u001b[0m\u001b[0;34m(\u001b[0m\u001b[0;34m)\u001b[0m\u001b[0;34m\u001b[0m\u001b[0;34m\u001b[0m\u001b[0m\n\u001b[0m",
      "\u001b[0;31mAttributeError\u001b[0m: type object 'son' has no attribute 'super'"
     ]
    }
   ],
   "source": [
    "class grandfather:\n",
    "    def func():\n",
    "        print(\"G\")\n",
    "class father:\n",
    "    def func():\n",
    "        print(\"F\")\n",
    "class son(father):\n",
    "    def func():\n",
    "        print(\"S\")\n",
    "s = son\n",
    "s.func()"
   ]
  },
  {
   "cell_type": "markdown",
   "metadata": {},
   "source": [
    "# 2nd april 2021"
   ]
  },
  {
   "cell_type": "code",
   "execution_count": 2,
   "metadata": {},
   "outputs": [],
   "source": [
    "ls= [1,2,3]\n",
    "a = [1,2,3]\n",
    "x = zip(ls,a)"
   ]
  },
  {
   "cell_type": "code",
   "execution_count": 4,
   "metadata": {},
   "outputs": [
    {
     "name": "stdout",
     "output_type": "stream",
     "text": [
      "<zip object at 0x7f9dfccf0b80>\n"
     ]
    }
   ],
   "source": [
    "print(x)"
   ]
  },
  {
   "cell_type": "code",
   "execution_count": null,
   "metadata": {},
   "outputs": [],
   "source": []
  },
  {
   "cell_type": "code",
   "execution_count": null,
   "metadata": {},
   "outputs": [],
   "source": []
  },
  {
   "cell_type": "code",
   "execution_count": null,
   "metadata": {},
   "outputs": [],
   "source": []
  },
  {
   "cell_type": "code",
   "execution_count": null,
   "metadata": {},
   "outputs": [],
   "source": []
  },
  {
   "cell_type": "code",
   "execution_count": null,
   "metadata": {},
   "outputs": [],
   "source": []
  },
  {
   "cell_type": "code",
   "execution_count": null,
   "metadata": {},
   "outputs": [],
   "source": []
  },
  {
   "cell_type": "code",
   "execution_count": null,
   "metadata": {},
   "outputs": [],
   "source": []
  },
  {
   "cell_type": "code",
   "execution_count": null,
   "metadata": {},
   "outputs": [],
   "source": []
  },
  {
   "cell_type": "code",
   "execution_count": null,
   "metadata": {},
   "outputs": [],
   "source": []
  },
  {
   "cell_type": "code",
   "execution_count": null,
   "metadata": {},
   "outputs": [],
   "source": []
  }
 ],
 "metadata": {
  "kernelspec": {
   "display_name": "Python 3",
   "language": "python",
   "name": "python3"
  },
  "language_info": {
   "codemirror_mode": {
    "name": "ipython",
    "version": 3
   },
   "file_extension": ".py",
   "mimetype": "text/x-python",
   "name": "python",
   "nbconvert_exporter": "python",
   "pygments_lexer": "ipython3",
   "version": "3.8.3"
  }
 },
 "nbformat": 4,
 "nbformat_minor": 4
}
