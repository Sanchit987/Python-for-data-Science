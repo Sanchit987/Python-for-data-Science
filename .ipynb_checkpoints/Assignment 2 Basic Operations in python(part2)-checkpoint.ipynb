{
 "cells": [
  {
   "cell_type": "markdown",
   "metadata": {},
   "source": [
    "## Assignment 2\n",
    "* Input your name and age and store them in name and age variable. Print your name and age like this: \"My name is name and I am age years old\"\n",
    "* Input two numbers and store them in variable num1 and num2. Compare two values and see if they are equal.\n",
    "* a = 6, b = 6, c=4, d=3. What is the output of the following statement?:\n",
    "          print(a==b and c==d).\n",
    "\n",
    "* If value of d is changed to 4 and same code is run again, will the output change?"
   ]
  },
  {
   "cell_type": "code",
   "execution_count": 1,
   "metadata": {},
   "outputs": [
    {
     "name": "stdout",
     "output_type": "stream",
     "text": [
      "Enter Name : Sanchit\n",
      "Enter Age : 21\n",
      "My name is Sanchit and I am 21 years old\n"
     ]
    }
   ],
   "source": [
    "name = input(\"Enter Name : \")\n",
    "age = int(input(\"Enter Age : \"))\n",
    "print(\"My name is {} and I am {} years old\".format(name,age))"
   ]
  },
  {
   "cell_type": "code",
   "execution_count": 2,
   "metadata": {},
   "outputs": [
    {
     "name": "stdout",
     "output_type": "stream",
     "text": [
      "Num1 : 5\n",
      "Num2 : 6\n",
      "Unequal\n"
     ]
    }
   ],
   "source": [
    "num1 = int(input(\"Num1 : \"))\n",
    "num2 = int(input(\"Num2 : \"))\n",
    "if(num1==num2):\n",
    "    print(\"Equal\")\n",
    "else:\n",
    "    print(\"Unequal\")"
   ]
  },
  {
   "cell_type": "code",
   "execution_count": 3,
   "metadata": {},
   "outputs": [
    {
     "name": "stdout",
     "output_type": "stream",
     "text": [
      "False\n"
     ]
    }
   ],
   "source": [
    "\"\"\"\n",
    "Answer will be False.\n",
    "Reason : \n",
    "a==b returns True\n",
    "c==d returns False\n",
    "Anding true and false returns false\n",
    "\"\"\"\n",
    "#verifying\n",
    "\n",
    "a,b,c,d = 6,6,4,3\n",
    "print(a==b and c==d)"
   ]
  },
  {
   "cell_type": "code",
   "execution_count": 4,
   "metadata": {},
   "outputs": [
    {
     "name": "stdout",
     "output_type": "stream",
     "text": [
      "True\n"
     ]
    }
   ],
   "source": [
    "d = 4\n",
    "\"\"\"\n",
    "Answer will be False.\n",
    "Reason : \n",
    "a==b returns True\n",
    "c==d returns True\n",
    "Anding true and true returns true\n",
    "\"\"\"\n",
    "#verifying\n",
    "print(a==b and c==d)"
   ]
  },
  {
   "cell_type": "code",
   "execution_count": null,
   "metadata": {},
   "outputs": [],
   "source": []
  }
 ],
 "metadata": {
  "kernelspec": {
   "display_name": "Python 3",
   "language": "python",
   "name": "python3"
  },
  "language_info": {
   "codemirror_mode": {
    "name": "ipython",
    "version": 3
   },
   "file_extension": ".py",
   "mimetype": "text/x-python",
   "name": "python",
   "nbconvert_exporter": "python",
   "pygments_lexer": "ipython3",
   "version": "3.8.3"
  }
 },
 "nbformat": 4,
 "nbformat_minor": 4
}
