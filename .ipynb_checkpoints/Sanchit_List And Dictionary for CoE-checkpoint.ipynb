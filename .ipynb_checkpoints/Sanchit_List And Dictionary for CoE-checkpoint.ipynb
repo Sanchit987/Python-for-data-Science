{
 "cells": [
  {
   "cell_type": "markdown",
   "metadata": {},
   "source": [
    "# List"
   ]
  },
  {
   "cell_type": "code",
   "execution_count": 45,
   "metadata": {},
   "outputs": [
    {
     "name": "stdout",
     "output_type": "stream",
     "text": [
      "True\n"
     ]
    }
   ],
   "source": [
    "# 1. Takes two lists and return True if they have at least one common member.\n",
    "list1 = [2, 3, 4, 5, 6]\n",
    "list2 = [5, 6, 7, 8, 9]\n",
    "\n",
    "for x in list1:\n",
    "    for y in list2:\n",
    "        if(x==y):\n",
    "            res = True\n",
    "print(res)"
   ]
  },
  {
   "cell_type": "code",
   "execution_count": 46,
   "metadata": {},
   "outputs": [
    {
     "name": "stdout",
     "output_type": "stream",
     "text": [
      "python\n"
     ]
    }
   ],
   "source": [
    "# 2. Convert a list of characters into a string.\n",
    "list_char = ['p','y','t','h','o','n']\n",
    "x = \"\".join(list_char)\n",
    "print(x)"
   ]
  },
  {
   "cell_type": "code",
   "execution_count": 47,
   "metadata": {},
   "outputs": [
    {
     "name": "stdout",
     "output_type": "stream",
     "text": [
      "12137899\n"
     ]
    }
   ],
   "source": [
    "# 3. Convert a list of multiple integers into a single integer. Sample list: [1, 2, 3] , Expected Output: 123.\n",
    "list_num = [12, 13, 78, 99]\n",
    "\n",
    "res = int(\"\".join(map(str,list_num)))\n",
    "print(res)"
   ]
  },
  {
   "cell_type": "code",
   "execution_count": 48,
   "metadata": {},
   "outputs": [
    {
     "name": "stdout",
     "output_type": "stream",
     "text": [
      "['Jim', 'Pam', 'Kelly', 'Michael']\n"
     ]
    }
   ],
   "source": [
    "# 4. Remove empty strings from the list of strings: \n",
    "list1 = [\"Jim\", \"\", \"Pam\", \"Kelly\", \"\", \"Michael\"]\n",
    "\n",
    "while \"\" in list1:\n",
    "    list1.remove(\"\")\n",
    "print(list1)"
   ]
  },
  {
   "cell_type": "code",
   "execution_count": 49,
   "metadata": {},
   "outputs": [
    {
     "name": "stdout",
     "output_type": "stream",
     "text": [
      "['a', 'b', ['c', ['d', 'e', ['f', 'g', 'h', 'i', 'j'], 'k'], 'l'], 'm', 'n']\n"
     ]
    }
   ],
   "source": [
    "\"\"\" 5. Given a nested list extend it with adding sub list \n",
    "    [\"h\", \"i\", \"j\"]  \n",
    "in a such a way that it will look like the following list:\n",
    "    list1 = [\"a\", \"b\", [\"c\", [\"d\", \"e\", [\"f\", \"g\"], \"k\"], \"l\"], \"m\", \"n\"]\n",
    "    sublist: Sub List to be added = [\"h\", \"i\", \"j\"]\n",
    "    Out: ['a', 'b', ['c', ['d', 'e', ['f', 'g', 'h', 'i', 'j'], 'k'], 'l'], 'm', 'n']\n",
    "\"\"\"\n",
    "list1 = [\"a\", \"b\", [\"c\", [\"d\", \"e\", [\"f\", \"g\"], \"k\"], \"l\"], \"m\", \"n\"]\n",
    "subList = [\"h\", \"i\", \"j\"]\n",
    "\n",
    "list1[2][1][2].extend(subList)\n",
    "print(list1)"
   ]
  },
  {
   "cell_type": "code",
   "execution_count": 50,
   "metadata": {},
   "outputs": [
    {
     "name": "stdout",
     "output_type": "stream",
     "text": [
      "[1, 2, 'found', 40, 30, 20, 30, 30, 20]\n"
     ]
    }
   ],
   "source": [
    "\"\"\" 6. Given a Python list, find value 30 in the list, and if it is present,\n",
    "replace it with “found”. Only update the first occurrence of a value: list1 = [5, 10, 15, 30, 25, 50, 30]\n",
    "Out: list1 = [5, 10, 15, “found”, 25, 50, 30]\n",
    "\"\"\"\n",
    "\n",
    "listx = [1,2,30,40,30,20,30,30,20]\n",
    "listx[listx.index(30)] = \"found\"\n",
    "\n",
    "print(listx)"
   ]
  },
  {
   "cell_type": "code",
   "execution_count": 51,
   "metadata": {},
   "outputs": [
    {
     "name": "stdout",
     "output_type": "stream",
     "text": [
      "[0, 10, 20, 30, 80, 40, 50, 60, 70, 90, 100, 110]\n"
     ]
    }
   ],
   "source": [
    "\"\"\"\n",
    "7. Flatten a list\n",
    "\n",
    "Original list: [0, 10, [20, 30, 80], 40, 50, [60, 70], [90, 100, 110]]\n",
    "Flatten list: [0, 10, 20, 30, 80, 40, 50, 60, 70, 90, 100, 110]\n",
    "\n",
    "\"\"\"\n",
    "\n",
    "Original_list= [0, 10, [20, 30, 80], 40, 50, [60, 70], [90, 100, 110]]\n",
    "flat_list = []\n",
    "for x in Original_list:\n",
    "    if(type(x) == int):\n",
    "        flat_list.append(x)\n",
    "    if(type(x) == list):\n",
    "        flat_list.extend(x)\n",
    "print(flat_list)\n",
    "        "
   ]
  },
  {
   "cell_type": "markdown",
   "metadata": {},
   "source": [
    "# Dictionary"
   ]
  },
  {
   "cell_type": "code",
   "execution_count": 55,
   "metadata": {},
   "outputs": [
    {
     "name": "stdout",
     "output_type": "stream",
     "text": [
      "{'Fifteen': 15, 'Twenty': 25, 'Thirty': 35}\n"
     ]
    }
   ],
   "source": [
    "\"\"\"1. Below are the two lists convert it into the dictionary:\n",
    "\n",
    "    keys = ['Fifteen', 'Twenty five', 'Thirty five']\n",
    "\n",
    "    values = [15, 25, 35]\n",
    "\n",
    "    Out: {'Ten': 15, 'Twenty': 25, 'Thirty': 35}\"\"\"\n",
    "\n",
    "\"\"\"\n",
    "Note : I am trying to print it acc to output.\n",
    "\"\"\"\n",
    "\n",
    "keys = ['Fifteen', 'Twenty five', 'Thirty five']\n",
    "values = [15, 25, 35]\n",
    "\n",
    "req = {}\n",
    "\n",
    "for i in range(len(keys)):\n",
    "    req[list(map(str,keys[i].split(\" \")))[0]] = values[i]\n",
    "print(req)"
   ]
  },
  {
   "cell_type": "code",
   "execution_count": 66,
   "metadata": {},
   "outputs": [
    {
     "name": "stdout",
     "output_type": "stream",
     "text": [
      "{'Ten': 15, 'Twenty': 25, 'Thirty': 30, 'Forty five': 45, 'Fifty six': 56}\n",
      "dict_keys(['Ten', 'Twenty', 'Thirty', 'Forty five', 'Fifty six'])\n"
     ]
    }
   ],
   "source": [
    "\"\"\"2. Merge following two Python dictionaries into one and store the value of keys in a separate list.\n",
    "\n",
    "    dict1 = {'Ten': 15, 'Twenty': 25, 'Thirty': 35}\n",
    "\n",
    "    dict2 = {'Thirty': 30, 'Forty five': 45, 'Fifty six': 56}\n",
    "\n",
    "    Out: {'Ten': 10, 'Twenty': 20, 'Thirty': 30, 'Fourty': 40, 'Fifty': 50}\"\"\"\n",
    "\n",
    "dict1 = {'Ten': 15, 'Twenty': 25, 'Thirty': 35}\n",
    "dict2 = {'Thirty': 30, 'Forty five': 45, 'Fifty six': 56}\n",
    "out = {}\n",
    "out.update(dict1)\n",
    "out.update(dict2)\n",
    "\n",
    "val = out.keys()\n",
    "print(out)\n",
    "print(val)"
   ]
  },
  {
   "cell_type": "code",
   "execution_count": 78,
   "metadata": {},
   "outputs": [
    {
     "name": "stdout",
     "output_type": "stream",
     "text": [
      "80\n"
     ]
    }
   ],
   "source": [
    "\"\"\" 3. Access the value of key ‘python2’:\n",
    "\n",
    "  sampleDict = { \n",
    "\n",
    "   \"sabudh\":{ \n",
    "\n",
    "      \"intern\":{ \n",
    "\n",
    "         \"name\":\"Mike\",\n",
    "\n",
    "         \"marks\":{ \n",
    "\n",
    "            \"python1\":70,\n",
    "\n",
    "            \"python2\":80\n",
    "\n",
    "         }\n",
    "\n",
    "      }\n",
    "\n",
    "   }\n",
    "\n",
    "}\n",
    "\"\"\"\n",
    "\n",
    "sampleDict = {\"sabudh\":{\"intern\":{ \"name\":\"Mike\",\"marks\":{\"python1\":70,\"python2\":80}}}}\n",
    "print(sampleDict[\"sabudh\"][\"intern\"][\"marks\"][\"python2\"])"
   ]
  },
  {
   "cell_type": "code",
   "execution_count": 85,
   "metadata": {},
   "outputs": [
    {
     "name": "stdout",
     "output_type": "stream",
     "text": [
      "{'name': 'Kanika', 'age': 25, 'city': 'New Delhi', 'marriage': 'married'}\n"
     ]
    }
   ],
   "source": [
    "\"\"\" 4. Rename key “marital status” to marriage in the following dictionary:\n",
    "\n",
    "sampleDict = {\n",
    "\n",
    "  \"name\": \"Kanika\",\n",
    "\n",
    "  \"age\":25,\n",
    "\n",
    "  \"marital status\": “married”,\n",
    "\n",
    "  \"city\": \"New Delhi\"\n",
    "\n",
    "}\n",
    "\n",
    "\"\"\"\n",
    "\n",
    "\n",
    "sampleDict = {\n",
    "\n",
    "  \"name\": \"Kanika\",\n",
    "\n",
    "  \"age\":25,\n",
    "\n",
    "  \"marital status\": \"married\",\n",
    "\n",
    "  \"city\": \"New Delhi\"\n",
    "\n",
    "}\n",
    "\n",
    "sampleDict[\"marriage\"] = sampleDict.pop(\"marital status\")\n",
    "print(sampleDict)\n"
   ]
  },
  {
   "cell_type": "code",
   "execution_count": 87,
   "metadata": {},
   "outputs": [
    {
     "name": "stdout",
     "output_type": "stream",
     "text": [
      "{'emp1': {'name': 'Jimothy', 'salary': 8500}, 'emp2': {'name': 'Philip', 'salary': 8000}, 'emp3': {'name': 'Britney', 'salary': 8500}}\n"
     ]
    }
   ],
   "source": [
    "\"\"\"5. Given a Python dictionary, update Britney’s salary to 8500:\n",
    "\n",
    "sampleDict = {\n",
    "\n",
    "     'emp1': {'name': 'Jimothy', 'salary': 8500},\n",
    "\n",
    "     'emp2': {'name': 'Philip', 'salary': 8000},\n",
    "\n",
    "     'emp3': {'name': 'Britney', 'salary': 5500}\n",
    "\n",
    "}\n",
    "\n",
    "Out: sampleDict = {\n",
    "\n",
    "     'emp1': {'name': 'Jimothy', 'salary': 8500},\n",
    "\n",
    "     'emp2': {'name': 'Philip', 'salary': 8000},\n",
    "\n",
    "     'emp3': {'name': 'Britney', 'salary': 9500}\n",
    "\n",
    "}\n",
    "\"\"\"\n",
    "\n",
    "sampleDict = {\n",
    "\n",
    "     'emp1': {'name': 'Jimothy', 'salary': 8500},\n",
    "\n",
    "     'emp2': {'name': 'Philip', 'salary': 8000},\n",
    "\n",
    "     'emp3': {'name': 'Britney', 'salary': 5500}\n",
    "\n",
    "}\n",
    "\n",
    "sampleDict[\"emp3\"][\"salary\"] = 8500\n",
    "print(sampleDict)"
   ]
  },
  {
   "cell_type": "code",
   "execution_count": 97,
   "metadata": {},
   "outputs": [
    {
     "name": "stdout",
     "output_type": "stream",
     "text": [
      "{'Thirty': 32.5, 'Forty five': 22.5, 'Ten': 7.5, 'Twenty': 12.5, 'Fifty six': 28.0}\n"
     ]
    }
   ],
   "source": [
    "\"\"\"\n",
    "6. Replace dictionary values with their mean.\n",
    "\n",
    "dict1 = {'Ten': 15, 'Twenty': 25, 'Thirty': 35}\n",
    "\n",
    "dict2 = {'Thirty': 30, 'Forty five': 45, 'Fifty six': 56}\n",
    "\"\"\"\n",
    "\n",
    "dict1 = {'Ten': 15, 'Twenty': 25, 'Thirty': 35}\n",
    "dict2 = {'Thirty': 30, 'Forty five': 45, 'Fifty six': 56}\n",
    "\n",
    "dict3 = {}\n",
    "\n",
    "key_set = set()\n",
    "\n",
    "for i in dict1.keys():\n",
    "    key_set.add(i)\n",
    "    \n",
    "for i in dict2.keys():\n",
    "    key_set.add(i)\n",
    "\n",
    "while(len(key_set) != 0):\n",
    "    val = key_set.pop()\n",
    "    dict3[val] = float((dict1.get(val,0) + dict2.get(val,0)))/2\n",
    "print(dict3)\n"
   ]
  },
  {
   "cell_type": "code",
   "execution_count": 103,
   "metadata": {},
   "outputs": [
    {
     "name": "stdout",
     "output_type": "stream",
     "text": [
      "{'mango': 'three', 'banana': 'two'}\n"
     ]
    }
   ],
   "source": [
    "\"\"\"\n",
    "7.  Remove key from the dictionary with value as a blank string:\n",
    "\n",
    "dict1 = {“mango”: ”three”, “orange”: ””, “banana”: ”two”, “apple”: ””}\n",
    "\"\"\"\n",
    "\n",
    "dict1 = {\"mango\": \"three\", \"orange\": \"\", \"banana\": \"two\", \"apple\": \"\"}\n",
    "\n",
    "ls = list(dict1.keys())\n",
    "for i in ls:\n",
    "    if(dict1[i] == \"\"):\n",
    "        del dict1[i]\n",
    "\n",
    "print(dict1)"
   ]
  },
  {
   "cell_type": "code",
   "execution_count": null,
   "metadata": {},
   "outputs": [],
   "source": []
  }
 ],
 "metadata": {
  "kernelspec": {
   "display_name": "Python 3",
   "language": "python",
   "name": "python3"
  },
  "language_info": {
   "codemirror_mode": {
    "name": "ipython",
    "version": 3
   },
   "file_extension": ".py",
   "mimetype": "text/x-python",
   "name": "python",
   "nbconvert_exporter": "python",
   "pygments_lexer": "ipython3",
   "version": "3.8.3"
  }
 },
 "nbformat": 4,
 "nbformat_minor": 4
}
