{
 "cells": [
  {
   "cell_type": "markdown",
   "metadata": {},
   "source": [
    "Sample for solving the project"
   ]
  },
  {
   "cell_type": "markdown",
   "metadata": {},
   "source": [
    "#### Some suggested tools before you get started:\n",
    "To take input from a user:\n",
    "\n",
    "    player1 = input(\"Hey! pick a marker 'X' or 'O'\")\n",
    "    \n",
    "to convert into integer value, use\n",
    "\n",
    "    mark_position = int(input('Please enter a number'))\n",
    "    \n"
   ]
  },
  {
   "cell_type": "markdown",
   "metadata": {},
   "source": [
    "**Create a function that can print out a tic-toc-toe board. you can use a list to store your board, where each index 1-9 corresponds with a number on a number pad, so you get a 3 by 3 board representation.**"
   ]
  },
  {
   "cell_type": "code",
   "execution_count": 1,
   "metadata": {},
   "outputs": [],
   "source": [
    "def show_board(board):\n",
    "    row1 = \" \".join(board[0:3])\n",
    "    row2 = \" \".join(board[3:6])\n",
    "    row3 = \" \".join(board[6:9])\n",
    "    print(row1)\n",
    "    print(row2)\n",
    "    print(row3)"
   ]
  },
  {
   "cell_type": "markdown",
   "metadata": {},
   "source": [
    "Test your borad before writing the logic"
   ]
  },
  {
   "cell_type": "code",
   "execution_count": 2,
   "metadata": {},
   "outputs": [
    {
     "name": "stdout",
     "output_type": "stream",
     "text": [
      "# X O\n",
      "X O X\n",
      "O X O\n"
     ]
    }
   ],
   "source": [
    "board = ['#','X','O','X','O','X','O','X','O','X']\n",
    "show_board(board)"
   ]
  },
  {
   "cell_type": "markdown",
   "metadata": {},
   "source": [
    "**Write a function that takes player input for marker as 'X' or 'O'. use *while* loops until user enters a correct answer.**"
   ]
  },
  {
   "cell_type": "code",
   "execution_count": 3,
   "metadata": {},
   "outputs": [],
   "source": [
    "def choose_your_marker():\n",
    "    mark = input(\"Enter Your Marker O/X : \")\n",
    "    return mark"
   ]
  },
  {
   "cell_type": "code",
   "execution_count": null,
   "metadata": {},
   "outputs": [],
   "source": []
  },
  {
   "cell_type": "markdown",
   "metadata": {},
   "source": [
    "**Write a function that takes in a marker ('X' or 'O'), and a desired position (number 1-9) and assigns it to the board.**"
   ]
  },
  {
   "cell_type": "code",
   "execution_count": 4,
   "metadata": {},
   "outputs": [],
   "source": [
    "def mark_the_board(board, marker, position):\n",
    "    board[position] = marker"
   ]
  },
  {
   "cell_type": "code",
   "execution_count": 5,
   "metadata": {},
   "outputs": [
    {
     "name": "stdout",
     "output_type": "stream",
     "text": [
      "# X O\n",
      "X O X\n",
      "O X $\n"
     ]
    }
   ],
   "source": [
    "mark_the_board(board,'$',8)\n",
    "show_board(board)"
   ]
  },
  {
   "cell_type": "markdown",
   "metadata": {},
   "source": [
    "**Write a function that takes in a board and a marker (X or O) and check whether player has won or not**"
   ]
  },
  {
   "cell_type": "code",
   "execution_count": 6,
   "metadata": {},
   "outputs": [],
   "source": [
    "def check_victory(board, mark):\n",
    "    d1 = [board[0],board[4],board[8]]\n",
    "    d2 = [board[2],board[4],board[6]]\n",
    "    c1 = [board[0],board[3],board[6]]\n",
    "    c2 = [board[1],board[4],board[7]]\n",
    "    c3 = [board[2],board[5],board[8]]\n",
    "    if(board[0:3]==[mark]*3 or board[3:6]==[mark]*3 or board[6:9]==[mark]*3 or d1==[mark]*3 or d2==[mark]*3 or c1==[mark]*3 or c2==[mark]*3 or c3==[mark]*3):\n",
    "        print(\"{} Wins\".format(mark))\n",
    "        return True\n",
    "    else:\n",
    "        return False"
   ]
  },
  {
   "cell_type": "code",
   "execution_count": 7,
   "metadata": {},
   "outputs": [
    {
     "data": {
      "text/plain": [
       "False"
      ]
     },
     "execution_count": 7,
     "metadata": {},
     "output_type": "execute_result"
    }
   ],
   "source": [
    "check_victory(board,'X')"
   ]
  },
  {
   "cell_type": "markdown",
   "metadata": {},
   "source": [
    "**Write a function that uses the random module to randomly decide which player goes first. You may want to lookup random.randint() Return a string of which player went first.**"
   ]
  },
  {
   "cell_type": "code",
   "execution_count": 8,
   "metadata": {},
   "outputs": [
    {
     "data": {
      "text/plain": [
       "('O', 'X')"
      ]
     },
     "execution_count": 8,
     "metadata": {},
     "output_type": "execute_result"
    }
   ],
   "source": [
    "import random\n",
    "\n",
    "def choose_first():\n",
    "    x = random.randint(0,1)\n",
    "    if(x<0.5):\n",
    "        return 'X','O'\n",
    "    else:\n",
    "        return 'O','X'\n",
    "choose_first()"
   ]
  },
  {
   "cell_type": "markdown",
   "metadata": {},
   "source": [
    "**Write a function that returns a boolean indicating whether a space on the board is freely available.**"
   ]
  },
  {
   "cell_type": "code",
   "execution_count": 9,
   "metadata": {},
   "outputs": [],
   "source": [
    "def check_space(board, position):\n",
    "    if '_' in board:\n",
    "        return True\n",
    "    else:\n",
    "        return False"
   ]
  },
  {
   "cell_type": "markdown",
   "metadata": {},
   "source": [
    "**Write a function that checks if the board is full and returns a boolean value. True if full, False otherwise.**"
   ]
  },
  {
   "cell_type": "code",
   "execution_count": 10,
   "metadata": {},
   "outputs": [],
   "source": [
    "def full_board_check(board):\n",
    "    if '_' not in board:\n",
    "        return True\n",
    "    else:\n",
    "        return False"
   ]
  },
  {
   "cell_type": "markdown",
   "metadata": {},
   "source": [
    "**Write a function that asks for a player's next position (as a number 1-9) and then uses the function to check if it's a free position. If it is, then return the position for later use.**"
   ]
  },
  {
   "cell_type": "code",
   "execution_count": 11,
   "metadata": {},
   "outputs": [],
   "source": [
    "def player_choice(board):\n",
    "    x = int(input(\"Enter the choice : \"))\n",
    "    if(board[x] == 'O' or board[x] == 'X' or x>8 or x<0):\n",
    "        print(\"Wrong Choice\")\n",
    "        return player_choice(board)        \n",
    "    return x"
   ]
  },
  {
   "cell_type": "markdown",
   "metadata": {},
   "source": [
    "**Write a function that asks the player if they want to play again and returns a boolean True if they do want to play again.**"
   ]
  },
  {
   "cell_type": "code",
   "execution_count": 12,
   "metadata": {},
   "outputs": [],
   "source": [
    "def replay():\n",
    "    print()\n",
    "    x = input(\"Do you want to play again y/n? : \")\n",
    "    if(x == 'y' or x == 'Y'):\n",
    "        return True\n",
    "    else:\n",
    "        return False"
   ]
  },
  {
   "cell_type": "markdown",
   "metadata": {
    "collapsed": true
   },
   "source": [
    "**Play the Game! Enjoy :)**"
   ]
  },
  {
   "cell_type": "code",
   "execution_count": 15,
   "metadata": {},
   "outputs": [
    {
     "name": "stdout",
     "output_type": "stream",
     "text": [
      "Let's Play Tic Tac Toe!\n",
      "Randomly choosing players\n",
      "player1 =  O\n",
      "player2 =  X\n",
      "_ _ _\n",
      "_ _ _\n",
      "_ _ _\n",
      "Its player 1 turn : \n",
      "Enter the choice : 0\n",
      "O _ _\n",
      "_ _ _\n",
      "_ _ _\n",
      "Its player 2 turn : \n",
      "Enter the choice : 1\n",
      "O X _\n",
      "_ _ _\n",
      "_ _ _\n",
      "Its player 1 turn : \n",
      "Enter the choice : 2\n",
      "O X O\n",
      "_ _ _\n",
      "_ _ _\n",
      "Its player 2 turn : \n",
      "Enter the choice : 3\n",
      "O X O\n",
      "X _ _\n",
      "_ _ _\n",
      "Its player 1 turn : \n",
      "Enter the choice : 4\n",
      "O X O\n",
      "X O _\n",
      "_ _ _\n",
      "Its player 2 turn : \n",
      "Enter the choice : 5\n",
      "O X O\n",
      "X O X\n",
      "_ _ _\n",
      "Its player 1 turn : \n",
      "Enter the choice : 6\n",
      "O X O\n",
      "X O X\n",
      "O _ _\n",
      "O Wins\n",
      "\n",
      "Do you want to play again y/n? : n\n",
      "Thanks for playing\n"
     ]
    }
   ],
   "source": [
    "def play():\n",
    "    print(\"Let's Play Tic Tac Toe!\")\n",
    "    print(\"Randomly choosing players\")\n",
    "    board = ['_','_','_','_','_','_','_','_','_']\n",
    "    # show_board(board)\n",
    "    player1,player2 = choose_first()\n",
    "    print('player1 = ',player1)\n",
    "    print('player2 = ',player2)\n",
    "    x=0\n",
    "    show_board(board)\n",
    "    for i in range(0,9):\n",
    "        if(i%2 == 0):\n",
    "            print(\"Its player 1 turn : \")\n",
    "            mark_the_board(board, player1, player_choice(board))\n",
    "            show_board(board)\n",
    "            if(check_victory(board,player1)):\n",
    "                x = 1\n",
    "                break\n",
    "        else:\n",
    "            print(\"Its player 2 turn : \")\n",
    "            mark_the_board(board, player2, player_choice(board))\n",
    "            show_board(board)\n",
    "            if(check_victory(board,player2)):\n",
    "                x = 1\n",
    "                break\n",
    "    if(x == 0):\n",
    "        print(\"Its a draw\")\n",
    "play()\n",
    "while(replay()):\n",
    "    play()\n",
    "print(\"Thanks for playing\")"
   ]
  },
  {
   "cell_type": "code",
   "execution_count": null,
   "metadata": {},
   "outputs": [],
   "source": []
  }
 ],
 "metadata": {
  "kernelspec": {
   "display_name": "Python 3",
   "language": "python",
   "name": "python3"
  },
  "language_info": {
   "codemirror_mode": {
    "name": "ipython",
    "version": 3
   },
   "file_extension": ".py",
   "mimetype": "text/x-python",
   "name": "python",
   "nbconvert_exporter": "python",
   "pygments_lexer": "ipython3",
   "version": "3.8.3"
  }
 },
 "nbformat": 4,
 "nbformat_minor": 1
}
