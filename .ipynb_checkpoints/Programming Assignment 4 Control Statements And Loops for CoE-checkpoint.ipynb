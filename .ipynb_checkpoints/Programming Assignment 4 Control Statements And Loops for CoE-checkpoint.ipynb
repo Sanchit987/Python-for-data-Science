{
 "cells": [
  {
   "cell_type": "markdown",
   "metadata": {},
   "source": [
    "# Control Statements And Loops"
   ]
  },
  {
   "cell_type": "code",
   "execution_count": 1,
   "metadata": {},
   "outputs": [
    {
     "name": "stdout",
     "output_type": "stream",
     "text": [
      "Not a palindrome.\n",
      "Not a palindrome.\n",
      "It is palindrome.\n"
     ]
    }
   ],
   "source": [
    "\"\"\"\n",
    "1. Check whether following numbers are palindrome: 123, 1571, 818.\n",
    "\"\"\"\n",
    "\n",
    "def check_palindrome(num):\n",
    "    \"\"\"\n",
    "    This function checks weather the num passed as argument is palindrome or not\n",
    "    \"\"\"\n",
    "    req = str(num)\n",
    "    \n",
    "    if(req == req[::-1]):\n",
    "        print(\"It is palindrome.\")\n",
    "    else:\n",
    "        print(\"Not a palindrome.\")\n",
    "        \n",
    "check_palindrome(123)\n",
    "check_palindrome(1571)\n",
    "check_palindrome(818)"
   ]
  },
  {
   "cell_type": "code",
   "execution_count": 2,
   "metadata": {},
   "outputs": [
    {
     "name": "stdout",
     "output_type": "stream",
     "text": [
      "* \n",
      "\n",
      "* * \n",
      "\n",
      "* * * \n",
      "\n",
      "* * * * \n",
      "\n",
      "* * * \n",
      "\n",
      "* * \n",
      "\n",
      "* \n",
      "\n"
     ]
    }
   ],
   "source": [
    "\"\"\"\n",
    "2. Print the pattern\n",
    "\n",
    "*\n",
    "\n",
    "* *\n",
    "\n",
    "* * *\n",
    "\n",
    "* * * *\n",
    "\n",
    "* * *\n",
    "\n",
    "* *\n",
    "\n",
    "*\n",
    "\n",
    "\n",
    "\"\"\"\n",
    "\n",
    "for i in range(4):\n",
    "    for j in range(i+1):\n",
    "        print(\"*\",end=\" \")\n",
    "        \n",
    "    print(\"\\n\")\n",
    "    \n",
    "for i in range(3,0,-1):\n",
    "    for j in range(i):\n",
    "        print(\"*\",end=\" \")\n",
    "        \n",
    "    print(\"\\n\")"
   ]
  },
  {
   "cell_type": "code",
   "execution_count": 3,
   "metadata": {},
   "outputs": [
    {
     "name": "stdout",
     "output_type": "stream",
     "text": [
      "0 1 1 2 3 5 8 13 21 34 55 89 "
     ]
    }
   ],
   "source": [
    "\"\"\"\n",
    "3. Get the Fibonacci series between 0 to 100.\n",
    "\n",
    "Note : The Fibonacci Sequence is the series of numbers :\n",
    "\n",
    "0, 1, 1, 2, 3, 5, 8, 13, 21, ....\n",
    "\n",
    "Every next number is found by adding up the two numbers before it.\n",
    "\n",
    "Expected Output : 1 1 2 3 5 8 13 21 34\n",
    "\n",
    "\"\"\"\n",
    "\n",
    "a = 0\n",
    "b = 1\n",
    "c = a+b\n",
    "print(a,b,end = \" \")\n",
    "while(c<100):\n",
    "    print(c,end=\" \")\n",
    "    a = b\n",
    "    b = c\n",
    "    c = a+b"
   ]
  },
  {
   "cell_type": "code",
   "execution_count": 4,
   "metadata": {},
   "outputs": [
    {
     "name": "stdout",
     "output_type": "stream",
     "text": [
      "Factorial of  10  =  3628800\n",
      "Factorial of  50  =  30414093201713378043612608166064768844377641568960512000000000000\n",
      "Factorial of  9  =  362880\n"
     ]
    }
   ],
   "source": [
    "\"\"\"\n",
    "4. Print the factorial of numbers given in the list, list_1 = [10, 50, 9]\n",
    "\"\"\"\n",
    "def fact(num):\n",
    "    if(num ==0 or num ==1):\n",
    "        return 1\n",
    "    return num*fact(num-1)\n",
    "\n",
    "list_1 = [10,50,9]\n",
    "\n",
    "for i in list_1:\n",
    "    print(\"Factorial of \",i ,\" = \", fact(i))"
   ]
  },
  {
   "cell_type": "code",
   "execution_count": 5,
   "metadata": {},
   "outputs": [
    {
     "name": "stdout",
     "output_type": "stream",
     "text": [
      "Scalen Triangle\n"
     ]
    }
   ],
   "source": [
    "\"\"\"\n",
    "5. Write a Python program to check a triangle is equilateral, isosceles or scalene.\n",
    "\n",
    "An equilateral triangle is a triangle in which all three sides are equal.\n",
    "A scalene triangle is a triangle that has three unequal sides.\n",
    "An isosceles triangle is a triangle with (at least) two equal sides.\n",
    "Expected Output:\n",
    "\n",
    "Input lengths of the triangle sides:                                    \n",
    "\n",
    "x: 6                                                                    \n",
    "y: 8                                                                    \n",
    "z: 12                                                                   \n",
    "Scalene triangle \n",
    "\"\"\"\n",
    "\n",
    "x= 6                                                                    \n",
    "y= 8                                                                    \n",
    "z= 12\n",
    "\n",
    "if(x==y and y==z and z==x):\n",
    "    print(\"Equilaterl triangle\")\n",
    "elif((x==y) or (y==z) or (z==x)):\n",
    "    print(\"Isosceles triangle\")\n",
    "elif(x!=y and y!= z and z!=x):\n",
    "    print(\"Scalen Triangle\")\n",
    "else:\n",
    "    print(\"Unexpected input\")"
   ]
  },
  {
   "cell_type": "code",
   "execution_count": 6,
   "metadata": {},
   "outputs": [
    {
     "name": "stdout",
     "output_type": "stream",
     "text": [
      "Word =  bcde\n",
      "c = 1\n",
      "b = 1\n",
      "d = 1\n",
      "e = 1\n",
      "Word =  abcdefg\n",
      "b = 1\n",
      "e = 1\n",
      "g = 1\n",
      "c = 1\n",
      "a = 1\n",
      "f = 1\n",
      "d = 1\n",
      "Word =  bcde\n",
      "c = 1\n",
      "b = 1\n",
      "d = 1\n",
      "e = 1\n",
      "Word =  bcdef\n",
      "b = 1\n",
      "e = 1\n",
      "c = 1\n",
      "f = 1\n",
      "d = 1\n"
     ]
    }
   ],
   "source": [
    "\"\"\"\n",
    "6. Print the number of distinct character present in each string of the list and also print the number \n",
    "of occurrences for each distinct word according to their appearance in the string. \n",
    "\n",
    "strings = [“bcde”’, “abcdefg”, “bcde”, “bcdef”]\n",
    "\"\"\"\n",
    "\n",
    "strings = [\"bcde\", \"abcdefg\", \"bcde\", \"bcdef\"]\n",
    "\n",
    "for i in strings:\n",
    "    print(\"Word = \", i)\n",
    "    setx = set(list(i))\n",
    "    for j in setx:\n",
    "        count = 0\n",
    "        for k in list(i):\n",
    "            if(k==j):\n",
    "                count = count + 1\n",
    "        print(j ,\"=\", count )\n"
   ]
  },
  {
   "cell_type": "code",
   "execution_count": 7,
   "metadata": {},
   "outputs": [
    {
     "name": "stdout",
     "output_type": "stream",
     "text": [
      "49 = Eligible to vote\n",
      "29 = Eligible to vote\n",
      "18 = Got eligible for voting card\n",
      "30 = Eligible to vote\n",
      "18 = Got eligible for voting card\n",
      "57 = Eligible to vote\n",
      "68 = Eligible to vote\n"
     ]
    }
   ],
   "source": [
    "\"\"\"\n",
    "7. A list is given to you which has ages of all the people that reside within a society. \n",
    "Check who all are eligible to vote. Also, if age is 18, print  “Got eligible for voting card”\n",
    "\n",
    "people_age = [12, 16, 49, 29, 18, 15, 30, 1, 18, 57, 68]\n",
    "\n",
    "\"\"\"\n",
    "\n",
    "people_age = [12, 16, 49, 29, 18, 15, 30, 1, 18, 57, 68]\n",
    "\n",
    "for x in people_age:\n",
    "    if(x==18):\n",
    "        print(\"{} = Got eligible for voting card\".format(x))\n",
    "    elif(x>18):\n",
    "        print(\"{} = Eligible to vote\".format(x))\n",
    "    else:\n",
    "        pass"
   ]
  },
  {
   "cell_type": "code",
   "execution_count": 11,
   "metadata": {},
   "outputs": [
    {
     "name": "stdout",
     "output_type": "stream",
     "text": [
      "Enter Temperature as _ F or _ C : 96 F\n",
      "In celsius :  35.55555555555556\n"
     ]
    }
   ],
   "source": [
    "\"\"\"\n",
    "8. Write a Python program to convert temperatures to celsius if temperature is given in fahrenheit.\n",
    "Do the same if the temperature is given in celsius.\n",
    "\n",
    "Example:\n",
    "\n",
    "Temp = “54 F”\n",
    "\n",
    "Output = “12.2 C”\n",
    "\"\"\"\n",
    "\n",
    "temp,sign = input(\"Enter Temperature as _ F or _ C : \").split(\" \")\n",
    "\n",
    "if(sign == \"F\" or sign==\"f\"):\n",
    "    print(\"In celsius : \", (int(temp)-32)*5/9)\n",
    "elif(sign==\"C\" or sign==\"c\"):\n",
    "    print(\"In celsius : \", temp)\n",
    "else:\n",
    "    pass"
   ]
  },
  {
   "cell_type": "code",
   "execution_count": 9,
   "metadata": {},
   "outputs": [
    {
     "name": "stdout",
     "output_type": "stream",
     "text": [
      "*             * \n",
      "\n",
      "* *         * * \n",
      "\n",
      "* * *     * * * \n",
      "\n",
      "* * * * * * * * \n",
      "\n"
     ]
    }
   ],
   "source": [
    "\"\"\"\n",
    "9. Print the pattern\n",
    "\n",
    "*             *\n",
    "\n",
    "* *         * *\n",
    "\n",
    "* * *     * * *\n",
    "\n",
    "* * * * * * * *\n",
    "\"\"\"\n",
    "def pl(i,num):\n",
    "    for j in range(0,num*2):\n",
    "        if(j<=i):\n",
    "            print(\"*\", end=\" \")\n",
    "            continue\n",
    "        elif(j>=7-i):\n",
    "            print(\"*\", end=\" \")\n",
    "        else:\n",
    "            print(\" \", end=\" \")\n",
    "    print(\"\\n\")\n",
    "\n",
    "def pat(num):\n",
    "    for i in range(0,num):\n",
    "        pl(i,num)\n",
    "    \n",
    "pat(4)"
   ]
  },
  {
   "cell_type": "code",
   "execution_count": 10,
   "metadata": {},
   "outputs": [
    {
     "name": "stdout",
     "output_type": "stream",
     "text": [
      "Enter PassWord : Rajkumar@123\n",
      "Password Entered is valid.\n"
     ]
    }
   ],
   "source": [
    "\"\"\"\n",
    "10. Write a Python program to check the validity of password input by users.\n",
    "\n",
    "Validation:\n",
    "\n",
    "At least 1 letter between [a-z] and 1 letter between [A-Z].\n",
    "At least 1 number between [0-9].\n",
    "At least 1 character from [$#@].\n",
    "Minimum length 6 characters.\n",
    "Maximum length 16 characters.\n",
    "\"\"\"\n",
    "s,l,n,c = 0,0,0,0\n",
    "password = input(\"Enter PassWord : \")\n",
    "\n",
    "password_flag = False\n",
    "\n",
    "if(len(password)>=6 and len(password)<=16):\n",
    "    for i in password:\n",
    "        if(i.isupper()):\n",
    "            l += 1\n",
    "        if(i.islower()):\n",
    "            s += 1\n",
    "        if(i.isdigit()):\n",
    "            n += 1\n",
    "        if(i == '@' or i== '#' or i == '$'):\n",
    "            c += 1\n",
    "        if(l>=1 and s>=1 and n>=1 and c>=1):\n",
    "            password_flag = True\n",
    "            break\n",
    "if(password_flag == True):\n",
    "    print(\"Password Entered is valid.\")\n",
    "else:\n",
    "    print(\"Password Entered is invalid.\")"
   ]
  },
  {
   "cell_type": "code",
   "execution_count": null,
   "metadata": {},
   "outputs": [],
   "source": []
  }
 ],
 "metadata": {
  "kernelspec": {
   "display_name": "Python 3",
   "language": "python",
   "name": "python3"
  },
  "language_info": {
   "codemirror_mode": {
    "name": "ipython",
    "version": 3
   },
   "file_extension": ".py",
   "mimetype": "text/x-python",
   "name": "python",
   "nbconvert_exporter": "python",
   "pygments_lexer": "ipython3",
   "version": "3.8.3"
  }
 },
 "nbformat": 4,
 "nbformat_minor": 4
}
