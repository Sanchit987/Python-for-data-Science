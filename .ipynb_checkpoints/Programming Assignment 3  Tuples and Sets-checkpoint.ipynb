{
 "cells": [
  {
   "cell_type": "markdown",
   "metadata": {},
   "source": [
    "# Programming Assignment 3: Tuples and Sets"
   ]
  },
  {
   "cell_type": "code",
   "execution_count": 1,
   "metadata": {},
   "outputs": [
    {
     "name": "stdout",
     "output_type": "stream",
     "text": [
      "(50,)\n",
      "<class 'tuple'>\n"
     ]
    }
   ],
   "source": [
    "\"\"\"\n",
    "1.  Create a tuple with single item 50.\n",
    "\"\"\"\n",
    "\n",
    "ans = (50,)\n",
    "print(ans)\n",
    "print(type(ans))"
   ]
  },
  {
   "cell_type": "code",
   "execution_count": 2,
   "metadata": {},
   "outputs": [
    {
     "name": "stdout",
     "output_type": "stream",
     "text": [
      "20\n"
     ]
    }
   ],
   "source": [
    "\"\"\"\n",
    "2. Access value 20 from the following tuple:\n",
    "\n",
    "    aTuple = (\"Orange\", [10, ( 20, 30), 40], (5, 15, 25)).\n",
    "\"\"\"\n",
    "\n",
    "aTuple = (\"Orange\", [10, ( 20, 30), 40], (5, 15, 25))\n",
    "\n",
    "print(aTuple[1][1][0])"
   ]
  },
  {
   "cell_type": "code",
   "execution_count": 5,
   "metadata": {},
   "outputs": [
    {
     "name": "stdout",
     "output_type": "stream",
     "text": [
      "(44, 55)\n",
      "<class 'tuple'>\n"
     ]
    }
   ],
   "source": [
    "\"\"\"\n",
    "3. Copy element 44 and 55 from the following tuple into a new empty tuple\n",
    "\n",
    "     tuple1 = (11, 22, 33, 44, 55, 66)\n",
    "\"\"\"\n",
    "\n",
    "tuple1 = (11, 22, 33, 44, 55, 66)\n",
    "\n",
    "newTuple = tuple1[3:5:1]\n",
    "print(newTuple)\n",
    "print(type(newTuple))"
   ]
  },
  {
   "cell_type": "code",
   "execution_count": 14,
   "metadata": {},
   "outputs": [
    {
     "name": "stdout",
     "output_type": "stream",
     "text": [
      "3\n"
     ]
    }
   ],
   "source": [
    "\"\"\"\n",
    "4. Counts the number of occurrences of integer 50 from a tuple(considering mutable elements too.)\n",
    "\n",
    "     tuple1 = (50, 10, 60, [40, 50, 60], 70, 50)\n",
    "\n",
    "\"\"\"\n",
    "tuple1 = (50, 10, 60, [40, 50, 60], 70, 50)\n",
    "count = 0\n",
    "\n",
    "for x in tuple1:\n",
    "    if(type(x) == int):\n",
    "        if(x == 50):\n",
    "            count += 1\n",
    "    if(type(x) == list):\n",
    "        for i in x:\n",
    "            if(i == 50):\n",
    "                count += 1\n",
    "                \n",
    "print(count)"
   ]
  },
  {
   "cell_type": "code",
   "execution_count": 18,
   "metadata": {},
   "outputs": [
    {
     "name": "stdout",
     "output_type": "stream",
     "text": [
      "(99, 88, 77, 66, 0)\n",
      "(11, 22, 33, 44, 55)\n"
     ]
    }
   ],
   "source": [
    "\"\"\"\n",
    "5. Swap the following two tuples: \n",
    "\n",
    "        tuple1 = (11, 22, 33, 44, 55)\n",
    "\n",
    "        tuple2 = (99, 88, 77, 66, 00)\n",
    "\n",
    "    Out: tuple1 = (99, 88, 77, 66, 00)\n",
    "\n",
    "            tuple2 = (11, 22, 33, 44, 55)\n",
    "\"\"\"\n",
    "\n",
    "tuple1 = (11, 22, 33, 44, 55)\n",
    "tuple2 = (99, 88, 77, 66, 00)\n",
    "\n",
    "tuple1,tuple2 = tuple2,tuple1\n",
    "print(tuple1)\n",
    "print(tuple2)"
   ]
  },
  {
   "cell_type": "code",
   "execution_count": 20,
   "metadata": {},
   "outputs": [
    {
     "name": "stdout",
     "output_type": "stream",
     "text": [
      "(9, 10, 'hi', [7, 'Python Programming'])\n"
     ]
    }
   ],
   "source": [
    "\"\"\"\n",
    "6. Replace item 8 with “Python Programming”.\n",
    "\n",
    "    my_tuple = (9, 10, “hi”, [7, 8])\n",
    "\n",
    "    Out : (9, 10, “hi”, [7, “Python Programming”])\n",
    "\n",
    "\"\"\"\n",
    "\n",
    "my_tuple = (9, 10, \"hi\", [7, 8])\n",
    "\n",
    "my_tuple[3][1] = \"Python Programming\"\n",
    "\n",
    "print(my_tuple)"
   ]
  },
  {
   "cell_type": "code",
   "execution_count": 30,
   "metadata": {},
   "outputs": [
    {
     "name": "stdout",
     "output_type": "stream",
     "text": [
      "102040570\n",
      "<class 'int'>\n"
     ]
    }
   ],
   "source": [
    "\"\"\"\n",
    "7. Original tuple: (10, 20, 40, 5, 70)\n",
    "\n",
    "    Convert the said tuple of positive integers into an integer:\n",
    "\n",
    "    Expected out: 102040570\n",
    "\"\"\"\n",
    "\n",
    "tupleX = (10, 20, 40, 5, 70)\n",
    "\n",
    "req = \"\"\n",
    "for i in tupleX:\n",
    "    req += str(i)\n",
    "req = int(req)\n",
    "\n",
    "print(req)\n",
    "print(type(req))"
   ]
  },
  {
   "cell_type": "code",
   "execution_count": 31,
   "metadata": {},
   "outputs": [
    {
     "name": "stdout",
     "output_type": "stream",
     "text": [
      "White present in tuple :  1\n"
     ]
    }
   ],
   "source": [
    "\"\"\"\n",
    "8. Check if a specified element presents in a tuple of tuples.\n",
    "\n",
    "    Original tuple: (('Red', 'White', 'Blue'), ('Green', 'Pink', 'Purple'), ('Orange', 'Yellow', 'Lime'))\n",
    "\n",
    "    Check if White presenet in said tuple of tuples!\n",
    "\n",
    "    Check if White presenet in said tuple of tuples!\n",
    "\n",
    "    Check if Olive presenet in said tuple of tuples!\n",
    "\n",
    "\"\"\"\n",
    "tupleX = (('Red', 'White', 'Blue'), ('Green', 'Pink', 'Purple'), ('Orange', 'Yellow', 'Lime'))\n",
    "req = 0\n",
    "for x in tupleX:\n",
    "    req += 1\n",
    "    for i in x:\n",
    "        if(i == 'White'):\n",
    "            print(\"White present in tuple : \", req)\n",
    "        if(i == 'Olive'):\n",
    "            print(\"Olive present in tuple : \", req)"
   ]
  },
  {
   "cell_type": "markdown",
   "metadata": {},
   "source": [
    "# Sets"
   ]
  },
  {
   "cell_type": "code",
   "execution_count": 4,
   "metadata": {},
   "outputs": [
    {
     "name": "stdout",
     "output_type": "stream",
     "text": [
      "1\n"
     ]
    }
   ],
   "source": [
    "\"\"\"\n",
    "1. Two sets A and B are given to you. 1 denotes happiness and -1 denotes unhappiness. \n",
    "If the given element is present in set A, you add 1 to your happiness and if the given\n",
    "element is present in set B, you add -1 to the happiness. Print the total happiness. \n",
    "\n",
    "   A = {1,5, 3, 7}\n",
    "\n",
    "   B = {2, 4, 6, 8}\n",
    "\n",
    "   Given set = {1, 3, 7, 6, 8}\n",
    "\n",
    "Explanation\n",
    "\n",
    "A = {1, 3}\n",
    "\n",
    "B = {5, 7}\n",
    "\n",
    "Given numbers: 1, 5, 3\n",
    "\n",
    "Total happiness: 1\n",
    "\n",
    "1 and 3 are present in A so happiness = 2\n",
    "\n",
    "5 is present in B so happiness is  = -1\n",
    "\n",
    "Total happiness = 2-1 = 1\n",
    "\"\"\"\n",
    "\n",
    "\n",
    "A = {1,5, 3, 7}\n",
    "B = {2, 4, 6, 8}\n",
    "given_set = {1, 3, 7, 6, 8}\n",
    "\n",
    "pos = len(A.intersection(given_set))\n",
    "neg = len(B.intersection(given_set))\n",
    "\n",
    "res = pos-neg\n",
    "\n",
    "print(res)"
   ]
  },
  {
   "cell_type": "code",
   "execution_count": 5,
   "metadata": {},
   "outputs": [
    {
     "name": "stdout",
     "output_type": "stream",
     "text": [
      "It is True that A is subset of B.\n"
     ]
    }
   ],
   "source": [
    "\"\"\"\n",
    "2. Check if a set A is a subset of set B.\n",
    "\n",
    "A = {“a”, “b”, “c”,”e”}\n",
    "\n",
    "B = {“a”, “c”, “d”, “b”, “e”, “f”}\n",
    "\"\"\"\n",
    "\n",
    "A = {'a','b','c','e'}\n",
    "B = {'a','c','d','b','e','f'}\n",
    "\n",
    "print(\"It is\",A.issubset(B),\"that A is subset of B.\")"
   ]
  },
  {
   "cell_type": "code",
   "execution_count": 6,
   "metadata": {},
   "outputs": [
    {
     "name": "stdout",
     "output_type": "stream",
     "text": [
      "{1, 2, 3, 4, 5}\n"
     ]
    }
   ],
   "source": [
    "\"\"\"\n",
    "3. Store all the unique elements present in the given list in variable unique_elem.\n",
    "\n",
    "list_1 = [1, 2, 2, 3, 4, 5, 3, 5, 5, 5, 3]\n",
    "\"\"\"\n",
    "\n",
    "list_1 = [1, 2, 2, 3, 4, 5, 3, 5, 5, 5, 3]\n",
    "\n",
    "unique_ele = set(list_1)\n",
    "\n",
    "print(unique_ele)"
   ]
  },
  {
   "cell_type": "code",
   "execution_count": 8,
   "metadata": {},
   "outputs": [
    {
     "name": "stdout",
     "output_type": "stream",
     "text": [
      "There are 1 elements in common.\n"
     ]
    }
   ],
   "source": [
    "\"\"\"\n",
    "4. Check if two given sets have no elements in common.\n",
    "\n",
    "A = {“dad”, “bought”, “me”, “grapes”}\n",
    "\n",
    "B = {“grapes”, “are”, “sour”}\n",
    "\"\"\"\n",
    "\n",
    "A = {\"dad\",\"bought\",\"me\",\"grapes\"}\n",
    "B = {\"grapes\",\"are\",\"sour\"}\n",
    "\n",
    "print(\"There are {} elements in common.\".format(len(A.intersection(B))))"
   ]
  },
  {
   "cell_type": "code",
   "execution_count": 9,
   "metadata": {},
   "outputs": [
    {
     "name": "stdout",
     "output_type": "stream",
     "text": [
      "{1, 10, 27}\n"
     ]
    }
   ],
   "source": [
    "\"\"\"\n",
    "5. Remove the intersection of a 2nd set from the 1st set. \n",
    "\n",
    "A = {1, 8, 9, 10, 27}             B = {9, 8, 15, 78}\n",
    "\"\"\"\n",
    "\n",
    "A = {1, 8, 9, 10, 27}\n",
    "B = {9, 8, 15, 78}\n",
    "\n",
    "res = A-B\n",
    "print(res)"
   ]
  },
  {
   "cell_type": "code",
   "execution_count": 15,
   "metadata": {},
   "outputs": [
    {
     "name": "stdout",
     "output_type": "stream",
     "text": [
      "{'3rd', '2nd', 'Australia', 'America', '1st', 'Austria'}\n"
     ]
    }
   ],
   "source": [
    "\"\"\"\n",
    "6. Add elements of list to the given set.\n",
    "\n",
    "A = {“1st”, “2nd”, 3rd”}\n",
    "\n",
    "list_1 = [“Austria”, “America”, “Australia”]\n",
    "\"\"\"\n",
    "A = {\"1st\", \"2nd\", \"3rd\"}\n",
    "list_1 = [\"Austria\", \"America\", \"Australia\"]\n",
    "\n",
    "for x in list_1:\n",
    "    A.add(x)\n",
    "print(A)"
   ]
  },
  {
   "cell_type": "code",
   "execution_count": 16,
   "metadata": {},
   "outputs": [
    {
     "name": "stdout",
     "output_type": "stream",
     "text": [
      "{'yellow', 'orange'}\n"
     ]
    }
   ],
   "source": [
    "\"\"\"\n",
    "7. Remove green, blue, black elements from a following set at once\n",
    "\n",
    "set1 = {“green”, “blue”, “black”, “yellow”, “orange”}\n",
    "\"\"\"\n",
    "set1 = {\"green\",\"blue\",\"black\",\"yellow\",\"orange\"}\n",
    "removal_set = {\"green\",\"blue\",\"black\"}\n",
    "\n",
    "res = set1 - removal_set\n",
    "print(res)"
   ]
  },
  {
   "cell_type": "code",
   "execution_count": 26,
   "metadata": {},
   "outputs": [
    {
     "name": "stdout",
     "output_type": "stream",
     "text": [
      "It is True A is strict subset of B\n",
      "It is False A is strict subset of B\n"
     ]
    }
   ],
   "source": [
    "\"\"\"\n",
    "8. Print True, if is a strict superset of each of the sets. \n",
    "Otherwise, print False. A strict superset has at least one element that does not exist in its subset.\n",
    "\n",
    "Example\n",
    "\n",
    "Set A ({1,6, 7}) is a strict superset of  set B ({1,7}) .\n",
    "\n",
    "Set A ({1,6, 7}) is not a strict superset of set C ({1, 6, 7})\n",
    "\"\"\"\n",
    "\n",
    "A = {1,6,7}\n",
    "B = {1,7}\n",
    "C = {1,6,7}\n",
    "\n",
    "print(\"It is {} A is strict subset of B\".format(A.issuperset(B) and (len(A-B) != 0) ))\n",
    "print(\"It is {} A is strict subset of B\".format(A.issuperset(C) and (len(A-C) != 0) ))"
   ]
  }
 ],
 "metadata": {
  "kernelspec": {
   "display_name": "Python 3",
   "language": "python",
   "name": "python3"
  },
  "language_info": {
   "codemirror_mode": {
    "name": "ipython",
    "version": 3
   },
   "file_extension": ".py",
   "mimetype": "text/x-python",
   "name": "python",
   "nbconvert_exporter": "python",
   "pygments_lexer": "ipython3",
   "version": "3.8.3"
  }
 },
 "nbformat": 4,
 "nbformat_minor": 4
}
