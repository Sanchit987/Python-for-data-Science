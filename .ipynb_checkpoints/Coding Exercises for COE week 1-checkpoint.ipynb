{
 "cells": [
  {
   "cell_type": "code",
   "execution_count": 58,
   "metadata": {},
   "outputs": [
    {
     "name": "stdout",
     "output_type": "stream",
     "text": [
      "[['eat', 'tea', 'ate'], ['tan', 'nat'], ['bat']]\n"
     ]
    }
   ],
   "source": [
    "\"\"\"\n",
    "1. Group Anagrams\n",
    "\n",
    "    Given an array of strings strs, group the anagrams together. You can return the answer in any order.\n",
    "\n",
    "    An Anagram is a word or phrase formed by rearranging the letters of a different word or phrase, typically using all the original letters exactly once. \n",
    "\n",
    "    Example 1:\n",
    "\n",
    "    Input: strs = [\"eat\",\"tea\",\"tan\",\"ate\",\"nat\",\"bat\"]\n",
    "\n",
    "    Output: [[\"bat\"],[\"nat\",\"tan\"],[\"ate\",\"eat\",\"tea\"]]\n",
    "\n",
    "   Example 2:\n",
    "\n",
    "   Input: strs = [\"\"]\n",
    "\n",
    "   Output: [[\"\"]]\n",
    "\n",
    "   Example 3:\n",
    "\n",
    "   Input: strs = [\"a\"]\n",
    "\n",
    "   Output: [[\"a\"]] \n",
    "\n",
    "   Constraints:\n",
    "\n",
    "   1 <= strs.length <= 104\n",
    "\n",
    "   0 <= strs[i].length <= 100\n",
    "\n",
    "   strs[i] consists of lower-case English letters.\n",
    "\"\"\"\n",
    "\n",
    "strs = [\"eat\",\"tea\",\"tan\",\"ate\",\"nat\",\"bat\"]\n",
    "dic = {}\n",
    "\n",
    "for i in strs:\n",
    "    temp = list(i)\n",
    "    temp.sort()\n",
    "    x = \"\".join(temp)\n",
    "    if x not in dic.keys():\n",
    "        dic[x] = [i]\n",
    "    else:\n",
    "        dic[x].append(i)\n",
    "    \n",
    "print(list(dic.values()))"
   ]
  },
  {
   "cell_type": "code",
   "execution_count": 74,
   "metadata": {},
   "outputs": [
    {
     "name": "stdout",
     "output_type": "stream",
     "text": [
      "[6, 28, 220, 284, 496]\n"
     ]
    }
   ],
   "source": [
    "\"\"\"\n",
    "2. Amicable numbers\n",
    "\n",
    "   Let d(n) be defined as the sum of proper divisors of n (numbers less than n which divide evenly into n).\n",
    "\n",
    "   If d(a) = b and d(b) = a, where a ≠ b, then a and b are an amicable pair and each of a and b are called amicable numbers.\n",
    "\n",
    "   For example, the proper divisors of 220 are 1, 2, 4, 5, 10, 11, 20, 22, 44, 55 and 110; therefore d(220) = 284. The proper divisors of 284 are 1, 2, 4, 71 and 142; so           d(284) = 220.\n",
    "\n",
    "   Evaluate the sum of all the amicable numbers under 10000.\n",
    "\"\"\"\n",
    "\n",
    "def d(num):\n",
    "    arr = []\n",
    "    for i in range(1,int(num/2)+1):\n",
    "        if(num%i == 0):\n",
    "            arr.append(i)\n",
    "    return sum(arr)\n",
    "\n",
    "def chec(num):\n",
    "    d_a = d(num)\n",
    "    d_b = d(d_a)\n",
    "    if(d_b==num):\n",
    "        return True\n",
    "    else:\n",
    "        return False\n",
    "\n",
    "amicable_numbers = []\n",
    "for i in range(1,1000):\n",
    "    if chec(i):\n",
    "        amicable_numbers.append(i)\n",
    "print(amicable_numbers)"
   ]
  },
  {
   "cell_type": "code",
   "execution_count": 75,
   "metadata": {},
   "outputs": [
    {
     "name": "stdout",
     "output_type": "stream",
     "text": [
      "[1, 1, 2, 3, 3, 3, 5, 5]\n"
     ]
    }
   ],
   "source": [
    "\"\"\"\n",
    "3. Given an array containing None values fill in the None values with most recent non None value in the array. \n",
    "\n",
    "   array1 = [1,None,2,3,None,None,5,None]\n",
    "\"\"\"\n",
    "array1 = [1,None,2,3,None,None,5,None]\n",
    "\n",
    "for i in range(len(array1)):\n",
    "    if(array1[i] == None):\n",
    "        array1[i] = array1[i-1]\n",
    "print(array1)"
   ]
  },
  {
   "cell_type": "code",
   "execution_count": 98,
   "metadata": {},
   "outputs": [
    {
     "data": {
      "text/plain": [
       "120"
      ]
     },
     "execution_count": 98,
     "metadata": {},
     "output_type": "execute_result"
    }
   ],
   "source": [
    "\"\"\"\n",
    "4.  Combinations\n",
    "\n",
    "     Create a function that takes a variable number of arguments, each argument representing the number of items in a group, and returns the number of permutations             (combinations) of items that you could get by taking one item from each group.\n",
    "\n",
    "     Examples\n",
    "\n",
    "     combinations(2, 3) ➞ 6\n",
    "\n",
    "     combinations(3, 7, 4) ➞ 84\n",
    "\n",
    "     combinations(2, 3, 4, 5) ➞ 120\n",
    "\n",
    "     Notes\n",
    "\n",
    "Don't overthink this one.\n",
    "Input may include the number zero.\n",
    "\"\"\"\n",
    "\n",
    "def combinations(*args):\n",
    "    if(len(args) == args.count(0)):\n",
    "        return 0\n",
    "    res = 1\n",
    "    for arg in args:\n",
    "        if(arg != 0):\n",
    "            res *= arg\n",
    "    return res    \n",
    "\n",
    "combinations(2,3,4,5)"
   ]
  },
  {
   "cell_type": "code",
   "execution_count": 91,
   "metadata": {},
   "outputs": [
    {
     "name": "stdout",
     "output_type": "stream",
     "text": [
      "Yup it has Friday 13th\n"
     ]
    }
   ],
   "source": [
    "\"\"\"\n",
    "5.  Friday the 13th\n",
    "\n",
    "     Given the month and year as numbers, return whether that month contains a Friday 13th.\n",
    "\n",
    "     Examples\n",
    "\n",
    "     has_friday_13(3, 2020) ➞ True\n",
    "\n",
    "     has_friday_13(10, 2017) ➞ True\n",
    "\n",
    "     has_friday_13(1, 1985) ➞ False\n",
    "\n",
    "     Notes\n",
    "\n",
    "January will be given as 1, February as 2, etc ...\n",
    "\"\"\"\n",
    "from datetime import datetime\n",
    "import calendar\n",
    "\n",
    "def friday13(mon,yr):\n",
    "    if(calendar.weekday(yr, mon, 13) == 4):\n",
    "        print(\"Yup it has Friday 13th\")\n",
    "    \n",
    "friday13(3,2020)"
   ]
  },
  {
   "cell_type": "code",
   "execution_count": null,
   "metadata": {},
   "outputs": [],
   "source": []
  }
 ],
 "metadata": {
  "kernelspec": {
   "display_name": "Python 3",
   "language": "python",
   "name": "python3"
  },
  "language_info": {
   "codemirror_mode": {
    "name": "ipython",
    "version": 3
   },
   "file_extension": ".py",
   "mimetype": "text/x-python",
   "name": "python",
   "nbconvert_exporter": "python",
   "pygments_lexer": "ipython3",
   "version": "3.8.3"
  }
 },
 "nbformat": 4,
 "nbformat_minor": 4
}
