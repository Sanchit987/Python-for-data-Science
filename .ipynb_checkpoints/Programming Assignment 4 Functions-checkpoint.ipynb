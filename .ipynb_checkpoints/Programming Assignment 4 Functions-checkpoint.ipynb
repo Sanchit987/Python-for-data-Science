{
 "cells": [
  {
   "cell_type": "markdown",
   "metadata": {},
   "source": [
    "# Programming Assignment 4 Functions"
   ]
  },
  {
   "cell_type": "code",
   "execution_count": 7,
   "metadata": {},
   "outputs": [
    {
     "name": "stdout",
     "output_type": "stream",
     "text": [
      "[1, 2, 3, 4, 5]\n"
     ]
    }
   ],
   "source": [
    "\"\"\"\n",
    "Write a Python function that takes a list and returns a new list with unique elements of the first list.\n",
    "\n",
    "Sample List : [1,2,3,3,3,3,4,5]\n",
    "\n",
    "Unique List : [1, 2, 3, 4, 5]\n",
    "\n",
    "\"\"\"\n",
    "def un(sample):\n",
    "    arr = []\n",
    "    for i in sample:\n",
    "        if i not in arr:\n",
    "            arr.append(i)\n",
    "    return arr\n",
    "        \n",
    "\n",
    "sample = [1,2,3,3,3,3,4,5]\n",
    "unique = un(sample)\n",
    "print(unique)"
   ]
  },
  {
   "cell_type": "code",
   "execution_count": 13,
   "metadata": {},
   "outputs": [
    {
     "name": "stdout",
     "output_type": "stream",
     "text": [
      "496\n",
      "Its a perfect Number\n"
     ]
    }
   ],
   "source": [
    "\"\"\"\n",
    "Q2.  Write a Python function to check whether a number is perfect or not.\n",
    "\n",
    "According to Wikipedia : In number theory, a perfect number is a positive integer that is\n",
    "equal to the sum of its proper positive divisors, that is, the sum of its positive divisors \n",
    "excluding the number itself (also known as its aliquot sum). Equivalently, a perfect number is \n",
    "a number that is half the sum of all of its positive divisors (including itself).\n",
    "\n",
    "Example : The first perfect number is 6, because 1, 2, and 3 are its proper positive divisors,\n",
    "and 1 + 2 + 3 = 6. Equivalently, the number 6 is equal to half the sum of all its positive divisors:\n",
    "( 1 + 2 + 3 + 6 ) / 2 = 6. The next perfect number is 28 = 1 + 2 + 4 + 7 + 14. This is followed by \n",
    "the perfect numbers 496 and 8128. Enter the number from the console\n",
    "\"\"\"\n",
    "\n",
    "def per(num):\n",
    "    divi = [i for i in range(1,int(num/2)+1) if num%i == 0]\n",
    "    return sum(divi)\n",
    "\n",
    "x = int(input())\n",
    "if(x == per(x)):\n",
    "    print(\"Its a perfect Number\")\n",
    "else:\n",
    "    print(\"Not a perfect number\")"
   ]
  },
  {
   "cell_type": "code",
   "execution_count": 14,
   "metadata": {},
   "outputs": [
    {
     "name": "stdout",
     "output_type": "stream",
     "text": [
      "black-green-red-white-yellow\n"
     ]
    }
   ],
   "source": [
    "\"\"\"\n",
    "Q3. Write a Python program that accepts a hyphen-separated sequence of words as input and prints \n",
    "the words in a hyphen-separated sequence after sorting them alphabetically. \n",
    "\n",
    "Sample Items : green-red-yellow-black-white\n",
    "\n",
    "Expected Result : black-green-red-white-yellow\n",
    "\"\"\"\n",
    "\n",
    "def acc(st):\n",
    "    arr = list(map(str,st.split(\"-\")))\n",
    "    arr.sort()\n",
    "    print(\"-\".join(arr))\n",
    "\n",
    "acc(\"green-red-yellow-black-white\")"
   ]
  },
  {
   "cell_type": "code",
   "execution_count": 20,
   "metadata": {},
   "outputs": [
    {
     "data": {
      "text/plain": [
       "['Monday', 'Friday', 'Sunday']"
      ]
     },
     "execution_count": 20,
     "metadata": {},
     "output_type": "execute_result"
    }
   ],
   "source": [
    "\"\"\"\n",
    "Q4. Write a Python program to find the values of length six in a given list using Lambda.\n",
    "\n",
    "weekdays = ['Monday', 'Tuesday', 'Wednesday', 'Thursday', 'Friday', 'Saturday', 'Sunday']\n",
    "\n",
    "\"\"\"\n",
    "req = lambda i: len(i) == 6\n",
    "\n",
    "def arr(ls):\n",
    "    arr =[]\n",
    "    for i in ls:\n",
    "        if(req(i)):\n",
    "            arr.append(i)\n",
    "    return arr\n",
    "\n",
    "weekdays = ['Monday', 'Tuesday', 'Wednesday', 'Thursday', 'Friday', 'Saturday', 'Sunday']\n",
    "\n",
    "arr(weekdays)"
   ]
  },
  {
   "cell_type": "code",
   "execution_count": 24,
   "metadata": {},
   "outputs": [
    {
     "name": "stdout",
     "output_type": "stream",
     "text": [
      "[1, 3, 5, 7, 9, 10]\n"
     ]
    }
   ],
   "source": [
    "\"\"\"\n",
    "Q5. Write a Python program to remove all elements from a given list present in another list using lambda. \n",
    "\n",
    "Original lists:\n",
    "\n",
    "list1: [1, 2, 3, 4, 5, 6, 7, 8, 9, 10]\n",
    "\n",
    "list2: [2, 4, 6, 8]\n",
    "\n",
    "Remove all elements from 'list1' present in 'list2:\n",
    "\n",
    "[1, 3, 5, 7, 9, 10]\n",
    "\n",
    "\"\"\"\n",
    "list1 = [1, 2, 3, 4, 5, 6, 7, 8, 9, 10]\n",
    "\n",
    "list2 = [2, 4, 6, 8]\n",
    "\n",
    "\n",
    "res = list(filter(lambda i: i not in list2, list1))\n",
    "print(res)"
   ]
  },
  {
   "cell_type": "code",
   "execution_count": 28,
   "metadata": {},
   "outputs": [
    {
     "name": "stdout",
     "output_type": "stream",
     "text": [
      "[19, 65, 57, 39, 152, 190]\n"
     ]
    }
   ],
   "source": [
    "\"\"\"\n",
    "Q6. Write a Python program to find numbers divisible by nineteen or thirteen from a list of numbers using Lambda.\n",
    "\n",
    "Orginal list:\n",
    "\n",
    "[19, 65, 57, 39, 152, 639, 121, 44, 90, 190]\n",
    "\n",
    "Numbers of the above list divisible by nineteen or thirteen:\n",
    "\n",
    "[19, 65, 57, 39, 152, 190]\n",
    "\"\"\"\n",
    "arr = [19, 65, 57, 39, 152, 639, 121, 44, 90, 190]\n",
    "res = list(filter(lambda x : x%13==0 or x%19==0,arr))\n",
    "print(res)"
   ]
  },
  {
   "cell_type": "code",
   "execution_count": 32,
   "metadata": {},
   "outputs": [
    {
     "name": "stdout",
     "output_type": "stream",
     "text": [
      "[4, 9, 14, 19, 24]\n"
     ]
    }
   ],
   "source": [
    "\"\"\"\n",
    "Q7. Write a Python program to add three given lists\n",
    "\n",
    "list_1 = [1,2,3,4,5]\n",
    "\n",
    "list_2 = [2,4,6,8,10]\n",
    "\n",
    "list_3 = [1,3,5,7,9]\n",
    "\n",
    "\"\"\"\n",
    "list_1 = [1,2,3,4,5]\n",
    "\n",
    "list_2 = [2,4,6,8,10]\n",
    "\n",
    "list_3 = [1,3,5,7,9]\n",
    "res = [list_1[x]+list_2[x]+list_3[x] for x in range(0,len(list_1))]\n",
    "print(res)"
   ]
  },
  {
   "cell_type": "code",
   "execution_count": 36,
   "metadata": {},
   "outputs": [
    {
     "name": "stdout",
     "output_type": "stream",
     "text": [
      "['1', '2', '3', '4']\n",
      "('0', '1', '2', '3')\n"
     ]
    }
   ],
   "source": [
    "\"\"\"\n",
    "Q8. Write a Python program to convert a given list of integers and a tuple of integers in a list of strings.\n",
    "\n",
    "nums_list = [1,2,3,4]\n",
    "\n",
    "nums_tuple = (0, 1, 2, 3)\n",
    "\n",
    "List of strings:\n",
    "\n",
    "['1', '2', '3', '4']\n",
    "\n",
    "Tuple of strings:\n",
    "\n",
    "('0', '1', '2', '3')\n",
    "\n",
    "\"\"\"\n",
    "nums_list = [1,2,3,4]\n",
    "\n",
    "nums_tuple = (0, 1, 2, 3)\n",
    "\n",
    "req1 = [str(i) for i in nums_list]\n",
    "req2 = tuple([str(i) for i in nums_tuple])\n",
    "print(req1)\n",
    "print(req2)"
   ]
  },
  {
   "cell_type": "code",
   "execution_count": 42,
   "metadata": {},
   "outputs": [
    {
     "name": "stdout",
     "output_type": "stream",
     "text": [
      "little\n"
     ]
    }
   ],
   "source": [
    "\"\"\"\n",
    "Q9. Use reduce function to pick the longest string out of the given strings in the\n",
    "list. words = [\"mary\", \"had\", \"a\", \"little\", \"lamb\"]\n",
    "\"\"\"\n",
    "from functools import reduce\n",
    "words = [\"mary\", \"had\", \"a\", \"little\", \"lamb\"]\n",
    "\n",
    "arr = reduce(lambda x,y: x if len(x)>len(y) else y,words)\n",
    "print(arr)"
   ]
  },
  {
   "cell_type": "code",
   "execution_count": 43,
   "metadata": {},
   "outputs": [
    {
     "name": "stdout",
     "output_type": "stream",
     "text": [
      "0\n"
     ]
    }
   ],
   "source": [
    "\"\"\"\n",
    "Q10. Do AND bitwise operation over all the elements in the list and print the result. \n",
    "list_1 = [0, 1, 2, 3, 7, 4, 5, 11, 12]\n",
    "\"\"\"\n",
    "from functools import reduce\n",
    "list_1 = [0, 1, 2, 3, 7, 4, 5, 11, 12]\n",
    "\n",
    "req = reduce(lambda x,y: x&y,list_1)\n",
    "print(req)"
   ]
  },
  {
   "cell_type": "code",
   "execution_count": null,
   "metadata": {},
   "outputs": [],
   "source": []
  }
 ],
 "metadata": {
  "kernelspec": {
   "display_name": "Python 3",
   "language": "python",
   "name": "python3"
  },
  "language_info": {
   "codemirror_mode": {
    "name": "ipython",
    "version": 3
   },
   "file_extension": ".py",
   "mimetype": "text/x-python",
   "name": "python",
   "nbconvert_exporter": "python",
   "pygments_lexer": "ipython3",
   "version": "3.8.3"
  }
 },
 "nbformat": 4,
 "nbformat_minor": 4
}
