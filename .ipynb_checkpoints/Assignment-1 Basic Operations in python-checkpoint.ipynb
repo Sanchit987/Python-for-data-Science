{
 "cells": [
  {
   "cell_type": "markdown",
   "metadata": {},
   "source": [
    "# Assignment-1\n",
    "## Create a form with the following input fields:\n",
    "    \n",
    "* First name\n",
    "* Last name\n",
    "* Marks in subject 1(float)(out of 100)\n",
    "* Marks in subject 2(float)(out of 100)\n",
    "* Marks in subject 3(float)(out of 100)\n",
    "\n",
    "## Display the following output:\n",
    "\n",
    "* Student’s full name.  \n",
    "* Percentage of the student.\n",
    " \n",
    "Both name and percentage should be in one line (eg John Samuel Percentage is 89%)"
   ]
  },
  {
   "cell_type": "code",
   "execution_count": 3,
   "metadata": {},
   "outputs": [
    {
     "name": "stdout",
     "output_type": "stream",
     "text": [
      "Enter the First Name : Sanchit\n",
      "Enter the Last Name : Khera\n",
      "Enter marks in first subject : 96\n",
      "Enter marks in second subject : 98\n",
      "Enter marks in third subject : 99\n"
     ]
    }
   ],
   "source": [
    "fname = input(\"Enter the First Name : \")  \n",
    "lname = input(\"Enter the Last Name : \")\n",
    "sub1 = float(input(\"Enter marks in first subject : \"))\n",
    "sub2 = float(input(\"Enter marks in second subject : \"))\n",
    "sub3 = float(input(\"Enter marks in third subject : \"))"
   ]
  },
  {
   "cell_type": "code",
   "execution_count": 13,
   "metadata": {},
   "outputs": [
    {
     "name": "stdout",
     "output_type": "stream",
     "text": [
      "Sanchit Khera Percentage is 97.67%\n"
     ]
    }
   ],
   "source": [
    "total_marks = 300.00\n",
    "scored_total = sub1+sub2+sub3\n",
    "print(\"{} {} Percentage is {}%\".format(fname,lname,round(((scored_total/total_marks)*100),2)))"
   ]
  },
  {
   "cell_type": "code",
   "execution_count": null,
   "metadata": {},
   "outputs": [],
   "source": []
  },
  {
   "cell_type": "code",
   "execution_count": null,
   "metadata": {},
   "outputs": [],
   "source": []
  }
 ],
 "metadata": {
  "kernelspec": {
   "display_name": "Python 3",
   "language": "python",
   "name": "python3"
  },
  "language_info": {
   "codemirror_mode": {
    "name": "ipython",
    "version": 3
   },
   "file_extension": ".py",
   "mimetype": "text/x-python",
   "name": "python",
   "nbconvert_exporter": "python",
   "pygments_lexer": "ipython3",
   "version": "3.8.3"
  }
 },
 "nbformat": 4,
 "nbformat_minor": 4
}
